{
 "cells": [
  {
   "cell_type": "code",
   "execution_count": 1,
   "id": "194a1037",
   "metadata": {},
   "outputs": [],
   "source": [
    "import pandas as pd\n",
    "import matplotlib.pyplot as plt\n",
    "import numpy as np\n",
    "from dateutil import parser\n",
    "from datetime import datetime\n",
    "import json\n",
    "import pickle"
   ]
  },
  {
   "cell_type": "code",
   "execution_count": 2,
   "id": "85b806ed",
   "metadata": {},
   "outputs": [],
   "source": [
    "SP22 = 'sp22'\n",
    "SP21 = 'sp21'"
   ]
  },
  {
   "cell_type": "markdown",
   "id": "790cc470",
   "metadata": {},
   "source": [
    "## Load in tables containing student id, student level"
   ]
  },
  {
   "cell_type": "code",
   "execution_count": 3,
   "id": "7f295a06",
   "metadata": {},
   "outputs": [
    {
     "data": {
      "text/html": [
       "<div>\n",
       "<style scoped>\n",
       "    .dataframe tbody tr th:only-of-type {\n",
       "        vertical-align: middle;\n",
       "    }\n",
       "\n",
       "    .dataframe tbody tr th {\n",
       "        vertical-align: top;\n",
       "    }\n",
       "\n",
       "    .dataframe thead th {\n",
       "        text-align: right;\n",
       "    }\n",
       "</style>\n",
       "<table border=\"1\" class=\"dataframe\">\n",
       "  <thead>\n",
       "    <tr style=\"text-align: right;\">\n",
       "      <th></th>\n",
       "      <th>Unnamed: 0</th>\n",
       "      <th>id_email</th>\n",
       "      <th>ranking</th>\n",
       "      <th>languages</th>\n",
       "      <th>prior courses</th>\n",
       "      <th>age</th>\n",
       "      <th>level</th>\n",
       "    </tr>\n",
       "  </thead>\n",
       "  <tbody>\n",
       "    <tr>\n",
       "      <th>17</th>\n",
       "      <td>17</td>\n",
       "      <td>56539.0</td>\n",
       "      <td>5</td>\n",
       "      <td>Python, Java, C/C++, Swift</td>\n",
       "      <td>AP Computer Science A, Other High School progr...</td>\n",
       "      <td>12 years old or younger</td>\n",
       "      <td>advanced</td>\n",
       "    </tr>\n",
       "    <tr>\n",
       "      <th>18</th>\n",
       "      <td>18</td>\n",
       "      <td>55891.0</td>\n",
       "      <td>4</td>\n",
       "      <td>Python, JavaScript, Scratch/SNAP</td>\n",
       "      <td>AP Computer Science Principles</td>\n",
       "      <td>12 years old or younger</td>\n",
       "      <td>advanced</td>\n",
       "    </tr>\n",
       "    <tr>\n",
       "      <th>94</th>\n",
       "      <td>94</td>\n",
       "      <td>56322.0</td>\n",
       "      <td>3</td>\n",
       "      <td>Python, Java, Scratch/SNAP</td>\n",
       "      <td>NaN</td>\n",
       "      <td>12 years old or younger</td>\n",
       "      <td>advanced</td>\n",
       "    </tr>\n",
       "    <tr>\n",
       "      <th>154</th>\n",
       "      <td>154</td>\n",
       "      <td>56609.0</td>\n",
       "      <td>4</td>\n",
       "      <td>Python, Java</td>\n",
       "      <td>AP Computer Science Principles</td>\n",
       "      <td>12 years old or younger</td>\n",
       "      <td>advanced</td>\n",
       "    </tr>\n",
       "    <tr>\n",
       "      <th>196</th>\n",
       "      <td>196</td>\n",
       "      <td>56522.0</td>\n",
       "      <td>4</td>\n",
       "      <td>Python, Java, C/C++, JavaScript</td>\n",
       "      <td>AP Computer Science A</td>\n",
       "      <td>12 years old or younger</td>\n",
       "      <td>advanced</td>\n",
       "    </tr>\n",
       "  </tbody>\n",
       "</table>\n",
       "</div>"
      ],
      "text/plain": [
       "     Unnamed: 0  id_email  ranking                         languages  \\\n",
       "17           17   56539.0        5        Python, Java, C/C++, Swift   \n",
       "18           18   55891.0        4  Python, JavaScript, Scratch/SNAP   \n",
       "94           94   56322.0        3        Python, Java, Scratch/SNAP   \n",
       "154         154   56609.0        4                      Python, Java   \n",
       "196         196   56522.0        4   Python, Java, C/C++, JavaScript   \n",
       "\n",
       "                                         prior courses  \\\n",
       "17   AP Computer Science A, Other High School progr...   \n",
       "18                      AP Computer Science Principles   \n",
       "94                                                 NaN   \n",
       "154                     AP Computer Science Principles   \n",
       "196                              AP Computer Science A   \n",
       "\n",
       "                         age     level  \n",
       "17   12 years old or younger  advanced  \n",
       "18   12 years old or younger  advanced  \n",
       "94   12 years old or younger  advanced  \n",
       "154  12 years old or younger  advanced  \n",
       "196  12 years old or younger  advanced  "
      ]
     },
     "execution_count": 3,
     "metadata": {},
     "output_type": "execute_result"
    }
   ],
   "source": [
    "def get_levels(file):\n",
    "    levels = pd.read_csv(file)\n",
    "    advanced = levels[levels['level'] == 'advanced']\n",
    "    intermediate = levels[levels['level'] == 'intermediate']\n",
    "    beginner = levels[levels['level'] == 'beginner']\n",
    "    \n",
    "    return {'advanced': advanced, 'intermediate': intermediate, 'beginner': beginner}\n",
    "\n",
    "level_dfs = {'sp22': get_levels('sp22-levels.csv'), 'sp21': get_levels('sp21-levels.csv')}\n",
    "\n",
    "\n",
    "level_dfs['sp21']['advanced'].head()"
   ]
  },
  {
   "cell_type": "code",
   "execution_count": 4,
   "id": "895790d6",
   "metadata": {},
   "outputs": [],
   "source": [
    "def get_assignment_df_level(level, assignment_df, sp22: bool):\n",
    "    \"\"\"\n",
    "    Select entries in assignment_df that match.\n",
    "    \"\"\"\n",
    "    sem = SP22 if sp22 else SP21\n",
    "    filtered = None\n",
    "    if level == 'advanced':\n",
    "        advanced_ids = list(level_dfs[sem][\"advanced\"]['okpy_id'])\n",
    "        \n",
    "        filtered = assignment_df[[sid in advanced_ids for sid in assignment_df['student_id']]]\n",
    "\n",
    "    elif level == 'intermediate':\n",
    "        intermediate_ids = list(level_dfs[sem][\"intermediate\"]['okpy_id'])\n",
    "        \n",
    "        filtered = assignment_df[[sid in intermediate_ids for sid in assignment_df['student_id']]]\n",
    "    \n",
    "    else:\n",
    "        beginner_ids = list(level_dfs[sem][\"beginner\"]['okpy_id'])\n",
    "        \n",
    "        filtered = assignment_df[[sid in beginner_ids for sid in assignment_df['student_id']]]\n",
    "    \n",
    "    return filtered\n"
   ]
  },
  {
   "cell_type": "code",
   "execution_count": 5,
   "id": "f0264d49",
   "metadata": {},
   "outputs": [],
   "source": [
    "assignment_dfs = {}"
   ]
  },
  {
   "cell_type": "code",
   "execution_count": 6,
   "id": "077ced33",
   "metadata": {},
   "outputs": [],
   "source": [
    "def load_assignment_df(name, refresh=False):\n",
    "    if name in assignment_dfs and not refresh:\n",
    "        return assignment_dfs[name]\n",
    "\n",
    "    sp22 = 'sp22' in name\n",
    "    columns = ['timestamp','message_type','data','student_id','is_submission','assignment']\n",
    "#     columns = ['assignment_id','assignment', 'backup_id', 'timestamp', 'student_id', 'is_submission', 'message_type', 'data']\n",
    "    if sp22:\n",
    "        columns = ['assignment_id','assignment', 'backup_id', 'timestamp', 'student_id', 'is_submission', 'message_type', 'data']\n",
    "\n",
    "    assignment_df = pd.read_csv(name, usecols=[i for i in range(len(columns))]) # 2 is data\n",
    "    assignment_df.columns = columns\n",
    "\n",
    "    assignment_dfs[name] = assignment_df\n",
    "\n",
    "    return assignment_dfs[name]"
   ]
  },
  {
   "cell_type": "code",
   "execution_count": 7,
   "id": "91ec7ec3",
   "metadata": {
    "scrolled": true
   },
   "outputs": [
    {
     "data": {
      "text/html": [
       "<div>\n",
       "<style scoped>\n",
       "    .dataframe tbody tr th:only-of-type {\n",
       "        vertical-align: middle;\n",
       "    }\n",
       "\n",
       "    .dataframe tbody tr th {\n",
       "        vertical-align: top;\n",
       "    }\n",
       "\n",
       "    .dataframe thead th {\n",
       "        text-align: right;\n",
       "    }\n",
       "</style>\n",
       "<table border=\"1\" class=\"dataframe\">\n",
       "  <thead>\n",
       "    <tr style=\"text-align: right;\">\n",
       "      <th></th>\n",
       "      <th>assignment_id</th>\n",
       "      <th>assignment</th>\n",
       "      <th>backup_id</th>\n",
       "      <th>timestamp</th>\n",
       "      <th>student_id</th>\n",
       "      <th>is_submission</th>\n",
       "      <th>message_type</th>\n",
       "      <th>data</th>\n",
       "    </tr>\n",
       "  </thead>\n",
       "  <tbody>\n",
       "    <tr>\n",
       "      <th>0</th>\n",
       "      <td>9878</td>\n",
       "      <td>cal/cs61a/sp22/lab04</td>\n",
       "      <td>32930705</td>\n",
       "      <td>2022-02-07 21:10:51</td>\n",
       "      <td>35348</td>\n",
       "      <td>0</td>\n",
       "      <td>problem</td>\n",
       "      <td>\"line_stepper\"</td>\n",
       "    </tr>\n",
       "    <tr>\n",
       "      <th>1</th>\n",
       "      <td>9878</td>\n",
       "      <td>cal/cs61a/sp22/lab04</td>\n",
       "      <td>32930705</td>\n",
       "      <td>2022-02-07 21:10:51</td>\n",
       "      <td>35348</td>\n",
       "      <td>0</td>\n",
       "      <td>action</td>\n",
       "      <td>\"stop\"</td>\n",
       "    </tr>\n",
       "    <tr>\n",
       "      <th>2</th>\n",
       "      <td>9878</td>\n",
       "      <td>cal/cs61a/sp22/lab04</td>\n",
       "      <td>32930712</td>\n",
       "      <td>2022-02-07 21:12:23</td>\n",
       "      <td>35348</td>\n",
       "      <td>0</td>\n",
       "      <td>action</td>\n",
       "      <td>\"start\"</td>\n",
       "    </tr>\n",
       "    <tr>\n",
       "      <th>3</th>\n",
       "      <td>9878</td>\n",
       "      <td>cal/cs61a/sp22/lab04</td>\n",
       "      <td>32930712</td>\n",
       "      <td>2022-02-07 21:12:23</td>\n",
       "      <td>35348</td>\n",
       "      <td>0</td>\n",
       "      <td>problem</td>\n",
       "      <td>\"line_stepper\"</td>\n",
       "    </tr>\n",
       "    <tr>\n",
       "      <th>4</th>\n",
       "      <td>9878</td>\n",
       "      <td>cal/cs61a/sp22/lab04</td>\n",
       "      <td>32930712</td>\n",
       "      <td>2022-02-07 21:12:23</td>\n",
       "      <td>35348</td>\n",
       "      <td>0</td>\n",
       "      <td>analytics</td>\n",
       "      <td>{\"question\": [\"line_stepper\"], \"time-utc\": \"20...</td>\n",
       "    </tr>\n",
       "    <tr>\n",
       "      <th>...</th>\n",
       "      <td>...</td>\n",
       "      <td>...</td>\n",
       "      <td>...</td>\n",
       "      <td>...</td>\n",
       "      <td>...</td>\n",
       "      <td>...</td>\n",
       "      <td>...</td>\n",
       "      <td>...</td>\n",
       "    </tr>\n",
       "    <tr>\n",
       "      <th>133843</th>\n",
       "      <td>9878</td>\n",
       "      <td>cal/cs61a/sp22/lab04</td>\n",
       "      <td>33744662</td>\n",
       "      <td>2022-03-07 23:11:41</td>\n",
       "      <td>71289</td>\n",
       "      <td>0</td>\n",
       "      <td>action</td>\n",
       "      <td>\"stop\"</td>\n",
       "    </tr>\n",
       "    <tr>\n",
       "      <th>133844</th>\n",
       "      <td>9878</td>\n",
       "      <td>cal/cs61a/sp22/lab04</td>\n",
       "      <td>33744662</td>\n",
       "      <td>2022-03-07 23:11:41</td>\n",
       "      <td>71289</td>\n",
       "      <td>0</td>\n",
       "      <td>analytics</td>\n",
       "      <td>{\"time-utc\": \"2022-03-07 23:11:41.871914\", \"hi...</td>\n",
       "    </tr>\n",
       "    <tr>\n",
       "      <th>133845</th>\n",
       "      <td>9878</td>\n",
       "      <td>cal/cs61a/sp22/lab04</td>\n",
       "      <td>33745095</td>\n",
       "      <td>2022-03-07 23:24:47</td>\n",
       "      <td>71289</td>\n",
       "      <td>0</td>\n",
       "      <td>action</td>\n",
       "      <td>\"start\"</td>\n",
       "    </tr>\n",
       "    <tr>\n",
       "      <th>133846</th>\n",
       "      <td>9878</td>\n",
       "      <td>cal/cs61a/sp22/lab04</td>\n",
       "      <td>33745095</td>\n",
       "      <td>2022-03-07 23:24:47</td>\n",
       "      <td>71289</td>\n",
       "      <td>0</td>\n",
       "      <td>analytics</td>\n",
       "      <td>{\"action\": \"start\", \"time-utc\": \"2022-03-07 23...</td>\n",
       "    </tr>\n",
       "    <tr>\n",
       "      <th>133847</th>\n",
       "      <td>9878</td>\n",
       "      <td>cal/cs61a/sp22/lab04</td>\n",
       "      <td>33745095</td>\n",
       "      <td>2022-03-07 23:24:47</td>\n",
       "      <td>71289</td>\n",
       "      <td>0</td>\n",
       "      <td>problem</td>\n",
       "      <td>\"line_stepper\"</td>\n",
       "    </tr>\n",
       "  </tbody>\n",
       "</table>\n",
       "<p>133848 rows × 8 columns</p>\n",
       "</div>"
      ],
      "text/plain": [
       "        assignment_id            assignment  backup_id            timestamp  \\\n",
       "0                9878  cal/cs61a/sp22/lab04   32930705  2022-02-07 21:10:51   \n",
       "1                9878  cal/cs61a/sp22/lab04   32930705  2022-02-07 21:10:51   \n",
       "2                9878  cal/cs61a/sp22/lab04   32930712  2022-02-07 21:12:23   \n",
       "3                9878  cal/cs61a/sp22/lab04   32930712  2022-02-07 21:12:23   \n",
       "4                9878  cal/cs61a/sp22/lab04   32930712  2022-02-07 21:12:23   \n",
       "...               ...                   ...        ...                  ...   \n",
       "133843           9878  cal/cs61a/sp22/lab04   33744662  2022-03-07 23:11:41   \n",
       "133844           9878  cal/cs61a/sp22/lab04   33744662  2022-03-07 23:11:41   \n",
       "133845           9878  cal/cs61a/sp22/lab04   33745095  2022-03-07 23:24:47   \n",
       "133846           9878  cal/cs61a/sp22/lab04   33745095  2022-03-07 23:24:47   \n",
       "133847           9878  cal/cs61a/sp22/lab04   33745095  2022-03-07 23:24:47   \n",
       "\n",
       "        student_id  is_submission message_type  \\\n",
       "0            35348              0      problem   \n",
       "1            35348              0       action   \n",
       "2            35348              0       action   \n",
       "3            35348              0      problem   \n",
       "4            35348              0    analytics   \n",
       "...            ...            ...          ...   \n",
       "133843       71289              0       action   \n",
       "133844       71289              0    analytics   \n",
       "133845       71289              0       action   \n",
       "133846       71289              0    analytics   \n",
       "133847       71289              0      problem   \n",
       "\n",
       "                                                     data  \n",
       "0                                          \"line_stepper\"  \n",
       "1                                                  \"stop\"  \n",
       "2                                                 \"start\"  \n",
       "3                                          \"line_stepper\"  \n",
       "4       {\"question\": [\"line_stepper\"], \"time-utc\": \"20...  \n",
       "...                                                   ...  \n",
       "133843                                             \"stop\"  \n",
       "133844  {\"time-utc\": \"2022-03-07 23:11:41.871914\", \"hi...  \n",
       "133845                                            \"start\"  \n",
       "133846  {\"action\": \"start\", \"time-utc\": \"2022-03-07 23...  \n",
       "133847                                     \"line_stepper\"  \n",
       "\n",
       "[133848 rows x 8 columns]"
      ]
     },
     "execution_count": 7,
     "metadata": {},
     "output_type": "execute_result"
    }
   ],
   "source": [
    "sp22_labs = ['lab01-sp22.csv', 'lab02-sp22.csv', 'lab04-sp22.csv', 'lab05-sp22.csv', 'lab06-sp22.csv']\n",
    "sp22_hws = ['hw01-sp22.csv', 'hw02-sp22.csv', 'hw03-sp22.csv', 'hw04-sp22.csv']\n",
    "sp21_labs = ['lab01.csv', 'lab02.csv', 'lab04.csv', 'lab05.csv', 'lab06.csv']\n",
    "sp21_hws = ['hw01.csv', 'hw02.csv', 'hw03.csv', 'hw04.csv']\n",
    "names = sp22_labs + sp22_hws + sp21_labs + sp21_hws\n",
    "_ = load_assignment_df('lab01-sp22.csv')\n",
    "_ = load_assignment_df('lab02-sp22.csv')\n",
    "load_assignment_df('lab04-sp22.csv')"
   ]
  },
  {
   "cell_type": "code",
   "execution_count": 8,
   "id": "691a7d94",
   "metadata": {},
   "outputs": [],
   "source": [
    "assignment_level_dfs = {}\n",
    "def refresh_assignment_level_dfs(names=None):\n",
    "    if not names:\n",
    "        names = list(assignment_dfs)\n",
    "    for name in names:\n",
    "        beginner_df = get_assignment_df_level(\"beginner\", assignment_dfs[name], 'sp22' in name)\n",
    "        intermediate_df = get_assignment_df_level(\"intermediate\", assignment_dfs[name], 'sp22' in name)\n",
    "        advanced_df = get_assignment_df_level(\"advanced\", assignment_dfs[name], 'sp22' in name)\n",
    "        assignment_level_dfs[name] = {\n",
    "            \"beginner\": beginner_df,\n",
    "            \"intermediate\": intermediate_df,\n",
    "            \"advanced\": advanced_df\n",
    "        }\n",
    "refresh_assignment_level_dfs()"
   ]
  },
  {
   "cell_type": "code",
   "execution_count": 9,
   "id": "536f7853",
   "metadata": {},
   "outputs": [],
   "source": [
    "sp21_df_filters = {}\n",
    "sp21_df_filters[\"has_apcs\"] = pd.read_csv('has_apcs_df_sp21.csv', usecols=[1])\n",
    "sp21_df_filters[\"has_python\"] = pd.read_csv('has_python_df_sp21.csv', usecols=[1])\n",
    "sp21_df_filters[\"no_languages_before\"] = pd.read_csv('no_languages_before_df_sp21.csv', usecols=[1])\n",
    "sp21_df_filters[\"no_python_but_other_languages\"] = pd.read_csv('no_python_but_other_languages_df_sp21.csv', usecols=[1])\n",
    "sp22_df_filters = {}\n",
    "sp22_df_filters[\"has_apcs\"] = pd.read_csv('has_apcs_df_sp22.csv', usecols=[1])\n",
    "sp22_df_filters[\"has_python\"] = pd.read_csv('has_python_df_sp22.csv', usecols=[1])\n",
    "sp22_df_filters[\"no_languages_before\"] = pd.read_csv('no_languages_before_df_sp22.csv', usecols=[1])\n",
    "sp22_df_filters[\"no_python_but_other_languages\"] = pd.read_csv('no_python_but_other_languages_df_sp22.csv', usecols=[1])\n",
    "for group in sp21_df_filters:\n",
    "    sp21_df_filters[group] = sp21_df_filters[group].rename(columns={\"id_email\": \"okpy_id\"})"
   ]
  },
  {
   "cell_type": "code",
   "execution_count": 10,
   "id": "ac095cc9",
   "metadata": {},
   "outputs": [],
   "source": [
    "import pdb\n",
    "def reject_outliers(data, m = 10.):\n",
    "#     print(len(data))\n",
    "    d = np.abs(data - np.median(data))\n",
    "#     print(d)\n",
    "    mdev = np.median(d)\n",
    "#     print(mdev)\n",
    "    s = d/mdev if mdev else np.zeros(len(d))\n",
    "    return data[s<m]\n",
    "\n",
    "def reject_outliers_using_iqr(data, m = 10.):\n",
    "    Q3 = np.percentile(data, 75)\n",
    "    Q1 = np.percentile(data, 25)\n",
    "    median = np.percentile(data, 50)\n",
    "    IQR = (Q3 - Q1) * 1.5\n",
    "    lower, upper =  Q1 - IQR, Q3 + IQR\n",
    "    print(f\"Q1, Q3, range = {Q1}, {Q3}, ({lower}, {upper})\")\n",
    "    result = data[np.where((data >= lower) & (data <= upper))]\n",
    "    return result\n",
    "\n",
    "def get_questions(assignment_df):\n",
    "    questions = set()\n",
    "    for row in assignment_df.itertuples():\n",
    "        data = json.loads(row.data)\n",
    "        if len(list(data)) != 1 or type(data) != dict:\n",
    "            continue\n",
    "        question = list(data)[0]\n",
    "        questions.add(question)\n",
    "    \n",
    "    questions = [q for q in list(questions) if q.lower() != \"total\" and \".py\" not in q]\n",
    "    return questions\n",
    "\n",
    "def generate_num_attempts(assignment_df, questions):\n",
    "    assignments = assignment_df.assignment.unique()\n",
    "    assignment_now = 'cal/cs61a/sp22/lab02' # edit this\n",
    "    students = assignment_df.student_id.unique()\n",
    "    \n",
    "    is_assignment = assignment_df.assignment == assignment_now\n",
    "    assignment_data = assignment_df[is_assignment]\n",
    "    assignment_students = assignment_data.student_id.unique()\n",
    "\n",
    "    grading_students = assignment_df[assignment_df.message_type == 'grading'].student_id.unique()\n",
    "    no_grading_students = [student for student in assignment_students if student not in grading_students]\n",
    "    \n",
    "    # compute number of attempts per question / edit questions here\n",
    "\n",
    "    num_attempts_per_question = {question: {student: 0 for student in grading_students} for question in questions}\n",
    "    for student in grading_students:\n",
    "        for row in assignment_df[(assignment_df.student_id == student) & (assignment_df.message_type == 'grading')].itertuples():\n",
    "        \n",
    "            data = json.loads(row.data)\n",
    "            if len(list(data)) != 1:\n",
    "                continue\n",
    "            question = list(data)[0]\n",
    "            if question in num_attempts_per_question:\n",
    "                num_attempts_per_question[question][student] += 1\n",
    "    \n",
    "#     for q in questions:\n",
    "#         temp = np.array(list(num_attempts_per_question[q].values()))\n",
    "#         plt.figure()\n",
    "#         print(q + \" Number of Attempts Summary Statistics\")\n",
    "#         plt.hist(list(temp))\n",
    "#         plt.show()\n",
    "#         print(pd.DataFrame(temp).describe())\n",
    "    return num_attempts_per_question\n",
    "\n",
    "def plot_num_attempts_per_question(num_attempts_per_question, questions=None, use_iqr=False):\n",
    "    if questions is None:\n",
    "        questions = list(num_attempts_per_question)\n",
    "    for q in questions:\n",
    "        print()\n",
    "        print(f\"{q.upper()}\")\n",
    "        temp = np.array(list(num_attempts_per_question[q].values()))\n",
    "    #     print(len(temp))\n",
    "        if use_iqr:\n",
    "            temp = reject_outliers_using_iqr(temp)\n",
    "        else:\n",
    "            temp = reject_outliers(temp)\n",
    "        plt.figure()\n",
    "        print(\"Number of Attempts\")\n",
    "        plt.hist(list(temp))\n",
    "        plt.show()\n",
    "        temp_final = pd.DataFrame(list(temp))\n",
    "        print()\n",
    "        print(\"Summary Statistics\")\n",
    "        print(temp_final.describe())\n",
    "        print()\n"
   ]
  },
  {
   "cell_type": "code",
   "execution_count": 11,
   "id": "86b94c80",
   "metadata": {
    "scrolled": true
   },
   "outputs": [
    {
     "data": {
      "text/html": [
       "<div>\n",
       "<style scoped>\n",
       "    .dataframe tbody tr th:only-of-type {\n",
       "        vertical-align: middle;\n",
       "    }\n",
       "\n",
       "    .dataframe tbody tr th {\n",
       "        vertical-align: top;\n",
       "    }\n",
       "\n",
       "    .dataframe thead th {\n",
       "        text-align: right;\n",
       "    }\n",
       "</style>\n",
       "<table border=\"1\" class=\"dataframe\">\n",
       "  <thead>\n",
       "    <tr style=\"text-align: right;\">\n",
       "      <th></th>\n",
       "      <th>okpy_id</th>\n",
       "    </tr>\n",
       "  </thead>\n",
       "  <tbody>\n",
       "    <tr>\n",
       "      <th>0</th>\n",
       "      <td>60431</td>\n",
       "    </tr>\n",
       "    <tr>\n",
       "      <th>1</th>\n",
       "      <td>71289</td>\n",
       "    </tr>\n",
       "    <tr>\n",
       "      <th>2</th>\n",
       "      <td>71146</td>\n",
       "    </tr>\n",
       "    <tr>\n",
       "      <th>3</th>\n",
       "      <td>71249</td>\n",
       "    </tr>\n",
       "    <tr>\n",
       "      <th>4</th>\n",
       "      <td>69014</td>\n",
       "    </tr>\n",
       "    <tr>\n",
       "      <th>5</th>\n",
       "      <td>71617</td>\n",
       "    </tr>\n",
       "    <tr>\n",
       "      <th>6</th>\n",
       "      <td>71236</td>\n",
       "    </tr>\n",
       "    <tr>\n",
       "      <th>7</th>\n",
       "      <td>71339</td>\n",
       "    </tr>\n",
       "    <tr>\n",
       "      <th>8</th>\n",
       "      <td>71015</td>\n",
       "    </tr>\n",
       "    <tr>\n",
       "      <th>9</th>\n",
       "      <td>71097</td>\n",
       "    </tr>\n",
       "    <tr>\n",
       "      <th>10</th>\n",
       "      <td>56138</td>\n",
       "    </tr>\n",
       "    <tr>\n",
       "      <th>11</th>\n",
       "      <td>57558</td>\n",
       "    </tr>\n",
       "    <tr>\n",
       "      <th>12</th>\n",
       "      <td>71251</td>\n",
       "    </tr>\n",
       "    <tr>\n",
       "      <th>13</th>\n",
       "      <td>71346</td>\n",
       "    </tr>\n",
       "    <tr>\n",
       "      <th>14</th>\n",
       "      <td>70991</td>\n",
       "    </tr>\n",
       "    <tr>\n",
       "      <th>15</th>\n",
       "      <td>65817</td>\n",
       "    </tr>\n",
       "    <tr>\n",
       "      <th>16</th>\n",
       "      <td>71619</td>\n",
       "    </tr>\n",
       "    <tr>\n",
       "      <th>17</th>\n",
       "      <td>66274</td>\n",
       "    </tr>\n",
       "    <tr>\n",
       "      <th>18</th>\n",
       "      <td>70683</td>\n",
       "    </tr>\n",
       "    <tr>\n",
       "      <th>19</th>\n",
       "      <td>71131</td>\n",
       "    </tr>\n",
       "    <tr>\n",
       "      <th>20</th>\n",
       "      <td>71367</td>\n",
       "    </tr>\n",
       "    <tr>\n",
       "      <th>21</th>\n",
       "      <td>65662</td>\n",
       "    </tr>\n",
       "    <tr>\n",
       "      <th>22</th>\n",
       "      <td>71243</td>\n",
       "    </tr>\n",
       "    <tr>\n",
       "      <th>23</th>\n",
       "      <td>70984</td>\n",
       "    </tr>\n",
       "    <tr>\n",
       "      <th>24</th>\n",
       "      <td>71425</td>\n",
       "    </tr>\n",
       "    <tr>\n",
       "      <th>25</th>\n",
       "      <td>71322</td>\n",
       "    </tr>\n",
       "    <tr>\n",
       "      <th>26</th>\n",
       "      <td>71199</td>\n",
       "    </tr>\n",
       "    <tr>\n",
       "      <th>27</th>\n",
       "      <td>27384</td>\n",
       "    </tr>\n",
       "    <tr>\n",
       "      <th>28</th>\n",
       "      <td>71170</td>\n",
       "    </tr>\n",
       "    <tr>\n",
       "      <th>29</th>\n",
       "      <td>70971</td>\n",
       "    </tr>\n",
       "    <tr>\n",
       "      <th>30</th>\n",
       "      <td>71038</td>\n",
       "    </tr>\n",
       "    <tr>\n",
       "      <th>31</th>\n",
       "      <td>56333</td>\n",
       "    </tr>\n",
       "    <tr>\n",
       "      <th>32</th>\n",
       "      <td>62363</td>\n",
       "    </tr>\n",
       "    <tr>\n",
       "      <th>33</th>\n",
       "      <td>71423</td>\n",
       "    </tr>\n",
       "    <tr>\n",
       "      <th>34</th>\n",
       "      <td>65904</td>\n",
       "    </tr>\n",
       "    <tr>\n",
       "      <th>35</th>\n",
       "      <td>66371</td>\n",
       "    </tr>\n",
       "    <tr>\n",
       "      <th>36</th>\n",
       "      <td>71164</td>\n",
       "    </tr>\n",
       "    <tr>\n",
       "      <th>37</th>\n",
       "      <td>71177</td>\n",
       "    </tr>\n",
       "    <tr>\n",
       "      <th>38</th>\n",
       "      <td>71158</td>\n",
       "    </tr>\n",
       "    <tr>\n",
       "      <th>39</th>\n",
       "      <td>71329</td>\n",
       "    </tr>\n",
       "    <tr>\n",
       "      <th>40</th>\n",
       "      <td>71615</td>\n",
       "    </tr>\n",
       "    <tr>\n",
       "      <th>41</th>\n",
       "      <td>71077</td>\n",
       "    </tr>\n",
       "    <tr>\n",
       "      <th>42</th>\n",
       "      <td>71080</td>\n",
       "    </tr>\n",
       "    <tr>\n",
       "      <th>43</th>\n",
       "      <td>51291</td>\n",
       "    </tr>\n",
       "    <tr>\n",
       "      <th>44</th>\n",
       "      <td>71055</td>\n",
       "    </tr>\n",
       "    <tr>\n",
       "      <th>45</th>\n",
       "      <td>71421</td>\n",
       "    </tr>\n",
       "    <tr>\n",
       "      <th>46</th>\n",
       "      <td>71255</td>\n",
       "    </tr>\n",
       "    <tr>\n",
       "      <th>47</th>\n",
       "      <td>75579</td>\n",
       "    </tr>\n",
       "  </tbody>\n",
       "</table>\n",
       "</div>"
      ],
      "text/plain": [
       "    okpy_id\n",
       "0     60431\n",
       "1     71289\n",
       "2     71146\n",
       "3     71249\n",
       "4     69014\n",
       "5     71617\n",
       "6     71236\n",
       "7     71339\n",
       "8     71015\n",
       "9     71097\n",
       "10    56138\n",
       "11    57558\n",
       "12    71251\n",
       "13    71346\n",
       "14    70991\n",
       "15    65817\n",
       "16    71619\n",
       "17    66274\n",
       "18    70683\n",
       "19    71131\n",
       "20    71367\n",
       "21    65662\n",
       "22    71243\n",
       "23    70984\n",
       "24    71425\n",
       "25    71322\n",
       "26    71199\n",
       "27    27384\n",
       "28    71170\n",
       "29    70971\n",
       "30    71038\n",
       "31    56333\n",
       "32    62363\n",
       "33    71423\n",
       "34    65904\n",
       "35    66371\n",
       "36    71164\n",
       "37    71177\n",
       "38    71158\n",
       "39    71329\n",
       "40    71615\n",
       "41    71077\n",
       "42    71080\n",
       "43    51291\n",
       "44    71055\n",
       "45    71421\n",
       "46    71255\n",
       "47    75579"
      ]
     },
     "execution_count": 11,
     "metadata": {},
     "output_type": "execute_result"
    }
   ],
   "source": [
    "sp22_df_filters['no_languages_before']"
   ]
  },
  {
   "cell_type": "code",
   "execution_count": 12,
   "id": "7a01a4e4",
   "metadata": {},
   "outputs": [
    {
     "data": {
      "text/plain": [
       "array([71454, 71257, 71286, 71422, 71162, 71281, 70866, 71438, 65732,\n",
       "       68299, 70973, 54050, 65154, 70788, 71274, 71378, 71334, 71414,\n",
       "       65676, 71443, 71358, 71036, 71305, 71039, 64735])"
      ]
     },
     "execution_count": 12,
     "metadata": {},
     "output_type": "execute_result"
    }
   ],
   "source": [
    "assignment_df = assignment_dfs['lab01-sp22.csv']\n",
    "ids_df = sp22_df_filters['has_apcs']\n",
    "ids = list(ids_df['okpy_id'])\n",
    "\n",
    "filtered = assignment_df[[sid in ids for sid in assignment_df['student_id']]]\n",
    "filtered['student_id'].unique()"
   ]
  },
  {
   "cell_type": "code",
   "execution_count": 13,
   "id": "0ee36051",
   "metadata": {},
   "outputs": [],
   "source": [
    "def num_attempts_graphs(name):\n",
    "    load_assignment_df(name)\n",
    "    questions = get_questions(assignment_dfs[name])\n",
    "    print(f\"Generating num attempts for {name}, using {questions}\")\n",
    "    num_attempts_per_question = generate_num_attempts(assignment_dfs[name], questions)\n",
    "    plot_num_attempts_per_question(num_attempts_per_question, questions)\n",
    "    \n",
    "def num_attempts_graphs_by_level(name):\n",
    "    load_assignment_df(name)\n",
    "    refresh_assignment_level_dfs([name])\n",
    "\n",
    "    questions = get_questions(assignment_dfs[name])\n",
    "    print()\n",
    "    print(f\"Generating num attempts for {name}, stratified by level, using {questions}\")\n",
    "    for level in assignment_level_dfs[name]:\n",
    "        print(f\"{level.upper()}\")\n",
    "        num_attempts_per_question = generate_num_attempts(assignment_level_dfs[name][level], questions)\n",
    "        plot_num_attempts_per_question(num_attempts_per_question, questions)\n",
    "\n",
    "def filter_assignment_df_using_ids(assignment_df, ids_df):\n",
    "    ids = list(ids_df['okpy_id'])\n",
    "\n",
    "    filtered = assignment_df[[sid in ids for sid in assignment_df['student_id']]]\n",
    "    return filtered\n",
    "        \n",
    "def num_attempts_graphs_using_df(name, ids_df, group_name):\n",
    "    load_assignment_df(name)\n",
    "    questions = get_questions(assignment_dfs[name])\n",
    "    print()\n",
    "    print(f\"Generating num attempts for {name}, for people in {group_name.upper()}, using {questions}\")\n",
    "    filtered_assignment_df = filter_assignment_df_using_ids(assignment_dfs[name], ids_df)\n",
    "    num_attempts_per_question = generate_num_attempts(filtered_assignment_df, questions)\n",
    "    plot_num_attempts_per_question(num_attempts_per_question, questions)\n",
    "\n",
    "def print_comma_separated_summary_statistics(name, questions, outlier_threshold=10, use_iqr=False):\n",
    "    load_assignment_df(name)\n",
    "    num_attempts_per_question = generate_num_attempts(assignment_dfs[name], questions)\n",
    "    summaries = {}\n",
    "    for q in questions:\n",
    "        temp = np.array(list(num_attempts_per_question[q].values()))\n",
    "    #     print(len(temp))\n",
    "        if use_iqr:\n",
    "            temp = reject_outliers_using_iqr(temp)\n",
    "        else:\n",
    "            temp = reject_outliers(temp, outlier_threshold)\n",
    "        temp_final = pd.DataFrame(list(temp))\n",
    "        summary = temp_final.describe()\n",
    "        summaries[q] = summary\n",
    "\n",
    "    for q in questions:\n",
    "        summary_list = summaries[q].values.tolist()\n",
    "        summary_list = [str(s[0]) for s in summary_list]\n",
    "        print(q)\n",
    "        print(','.join(summary_list))"
   ]
  },
  {
   "cell_type": "code",
   "execution_count": 14,
   "id": "3bd50ae2",
   "metadata": {
    "scrolled": true
   },
   "outputs": [
    {
     "name": "stdout",
     "output_type": "stream",
     "text": [
      "\n",
      "Generating num attempts for hw02-sp22.csv, for people in NO_LANGUAGES_BEFORE, using ['summation_using_accumulate', 'again', 'restrict_domain', 'hailstone', 'restrict_both', 'accumulate', 'filter_sequence', 'product_using_accumulate', 'restrict_range', 'count_until_larger', 'product']\n",
      "\n",
      "SUMMATION_USING_ACCUMULATE\n",
      "Number of Attempts\n"
     ]
    },
    {
     "data": {
      "image/png": "[encoded data removed]",
      "text/plain": [
       "<Figure size 432x288 with 1 Axes>"
      ]
     },
     "metadata": {
      "needs_background": "light"
     },
     "output_type": "display_data"
    },
    {
     "name": "stdout",
     "output_type": "stream",
     "text": [
      "\n",
      "Summary Statistics\n",
      "               0\n",
      "count  43.000000\n",
      "mean    2.767442\n",
      "std     2.307722\n",
      "min     0.000000\n",
      "25%     1.000000\n",
      "50%     2.000000\n",
      "75%     4.000000\n",
      "max    10.000000\n",
      "\n",
      "\n",
      "AGAIN\n",
      "Number of Attempts\n"
     ]
    },
    {
     "data": {
      "image/png": "[encoded data removed]",
      "text/plain": [
       "<Figure size 432x288 with 1 Axes>"
      ]
     },
     "metadata": {
      "needs_background": "light"
     },
     "output_type": "display_data"
    },
    {
     "name": "stdout",
     "output_type": "stream",
     "text": [
      "\n",
      "Summary Statistics\n",
      "          0\n",
      "count  45.0\n",
      "mean    0.0\n",
      "std     0.0\n",
      "min     0.0\n",
      "25%     0.0\n",
      "50%     0.0\n",
      "75%     0.0\n",
      "max     0.0\n",
      "\n",
      "\n",
      "RESTRICT_DOMAIN\n",
      "Number of Attempts\n"
     ]
    },
    {
     "data": {
      "image/png": "[encoded data removed]",
      "text/plain": [
       "<Figure size 432x288 with 1 Axes>"
      ]
     },
     "metadata": {
      "needs_background": "light"
     },
     "output_type": "display_data"
    },
    {
     "name": "stdout",
     "output_type": "stream",
     "text": [
      "\n",
      "Summary Statistics\n",
      "          0\n",
      "count  45.0\n",
      "mean    0.0\n",
      "std     0.0\n",
      "min     0.0\n",
      "25%     0.0\n",
      "50%     0.0\n",
      "75%     0.0\n",
      "max     0.0\n",
      "\n",
      "\n",
      "HAILSTONE\n",
      "Number of Attempts\n"
     ]
    },
    {
     "data": {
      "image/png": "[encoded data removed]",
      "text/plain": [
       "<Figure size 432x288 with 1 Axes>"
      ]
     },
     "metadata": {
      "needs_background": "light"
     },
     "output_type": "display_data"
    },
    {
     "name": "stdout",
     "output_type": "stream",
     "text": [
      "\n",
      "Summary Statistics\n",
      "               0\n",
      "count  44.000000\n",
      "mean    6.477273\n",
      "std     6.032812\n",
      "min     0.000000\n",
      "25%     3.000000\n",
      "50%     5.000000\n",
      "75%     8.250000\n",
      "max    31.000000\n",
      "\n",
      "\n",
      "RESTRICT_BOTH\n",
      "Number of Attempts\n"
     ]
    },
    {
     "data": {
      "image/png": "[encoded data removed]",
      "text/plain": [
       "<Figure size 432x288 with 1 Axes>"
      ]
     },
     "metadata": {
      "needs_background": "light"
     },
     "output_type": "display_data"
    },
    {
     "name": "stdout",
     "output_type": "stream",
     "text": [
      "\n",
      "Summary Statistics\n",
      "          0\n",
      "count  45.0\n",
      "mean    0.0\n",
      "std     0.0\n",
      "min     0.0\n",
      "25%     0.0\n",
      "50%     0.0\n",
      "75%     0.0\n",
      "max     0.0\n",
      "\n",
      "\n",
      "ACCUMULATE\n",
      "Number of Attempts\n"
     ]
    },
    {
     "data": {
      "image/png": "[encoded data removed]",
      "text/plain": [
       "<Figure size 432x288 with 1 Axes>"
      ]
     },
     "metadata": {
      "needs_background": "light"
     },
     "output_type": "display_data"
    },
    {
     "name": "stdout",
     "output_type": "stream",
     "text": [
      "\n",
      "Summary Statistics\n",
      "               0\n",
      "count  43.000000\n",
      "mean    5.162791\n",
      "std     5.358261\n",
      "min     0.000000\n",
      "25%     2.000000\n",
      "50%     3.000000\n",
      "75%     6.500000\n",
      "max    22.000000\n",
      "\n",
      "\n",
      "FILTER_SEQUENCE\n",
      "Number of Attempts\n"
     ]
    },
    {
     "data": {
      "image/png": "[encoded data removed]",
      "text/plain": [
       "<Figure size 432x288 with 1 Axes>"
      ]
     },
     "metadata": {
      "needs_background": "light"
     },
     "output_type": "display_data"
    },
    {
     "name": "stdout",
     "output_type": "stream",
     "text": [
      "\n",
      "Summary Statistics\n",
      "               0\n",
      "count  45.000000\n",
      "mean    5.755556\n",
      "std     5.962594\n",
      "min     0.000000\n",
      "25%     1.000000\n",
      "50%     4.000000\n",
      "75%     8.000000\n",
      "max    30.000000\n",
      "\n",
      "\n",
      "PRODUCT_USING_ACCUMULATE\n",
      "Number of Attempts\n"
     ]
    },
    {
     "data": {
      "image/png": "[encoded data removed]",
      "text/plain": [
       "<Figure size 432x288 with 1 Axes>"
      ]
     },
     "metadata": {
      "needs_background": "light"
     },
     "output_type": "display_data"
    },
    {
     "name": "stdout",
     "output_type": "stream",
     "text": [
      "\n",
      "Summary Statistics\n",
      "              0\n",
      "count  44.00000\n",
      "mean    2.25000\n",
      "std     1.71349\n",
      "min     0.00000\n",
      "25%     1.00000\n",
      "50%     2.00000\n",
      "75%     3.00000\n",
      "max     9.00000\n",
      "\n",
      "\n",
      "RESTRICT_RANGE\n",
      "Number of Attempts\n"
     ]
    },
    {
     "data": {
      "image/png": "[encoded data removed]",
      "text/plain": [
       "<Figure size 432x288 with 1 Axes>"
      ]
     },
     "metadata": {
      "needs_background": "light"
     },
     "output_type": "display_data"
    },
    {
     "name": "stdout",
     "output_type": "stream",
     "text": [
      "\n",
      "Summary Statistics\n",
      "          0\n",
      "count  45.0\n",
      "mean    0.0\n",
      "std     0.0\n",
      "min     0.0\n",
      "25%     0.0\n",
      "50%     0.0\n",
      "75%     0.0\n",
      "max     0.0\n",
      "\n",
      "\n",
      "COUNT_UNTIL_LARGER\n",
      "Number of Attempts\n"
     ]
    },
    {
     "data": {
      "image/png": "[encoded data removed]",
      "text/plain": [
       "<Figure size 432x288 with 1 Axes>"
      ]
     },
     "metadata": {
      "needs_background": "light"
     },
     "output_type": "display_data"
    },
    {
     "name": "stdout",
     "output_type": "stream",
     "text": [
      "\n",
      "Summary Statistics\n",
      "               0\n",
      "count  43.000000\n",
      "mean    8.069767\n",
      "std     9.567792\n",
      "min     1.000000\n",
      "25%     2.000000\n",
      "50%     4.000000\n",
      "75%    11.000000\n",
      "max    44.000000\n",
      "\n",
      "\n",
      "PRODUCT\n",
      "Number of Attempts\n"
     ]
    },
    {
     "data": {
      "image/png": "[encoded data removed]",
      "text/plain": [
       "<Figure size 432x288 with 1 Axes>"
      ]
     },
     "metadata": {
      "needs_background": "light"
     },
     "output_type": "display_data"
    },
    {
     "name": "stdout",
     "output_type": "stream",
     "text": [
      "\n",
      "Summary Statistics\n",
      "               0\n",
      "count  44.000000\n",
      "mean    3.704545\n",
      "std     3.474690\n",
      "min     0.000000\n",
      "25%     1.000000\n",
      "50%     3.000000\n",
      "75%     5.000000\n",
      "max    19.000000\n",
      "\n"
     ]
    }
   ],
   "source": [
    "num_attempts_graphs_using_df('hw02-sp22.csv', sp22_df_filters['no_languages_before'], 'no_languages_before')"
   ]
  },
  {
   "cell_type": "markdown",
   "id": "b7cadb05",
   "metadata": {},
   "source": [
    "## Lab 01"
   ]
  },
  {
   "cell_type": "code",
   "execution_count": 15,
   "id": "f7272f8e",
   "metadata": {
    "scrolled": true
   },
   "outputs": [
    {
     "name": "stdout",
     "output_type": "stream",
     "text": [
      "Generating num attempts for lab01-sp22.csv, using ['Veritasiness', 'sum_digits', 'Control', 'falling', 'digit_pos_match', 'debugging-quiz', 'begin', 'add_in_range', 'k_occurrence', 'double_eights']\n",
      "\n",
      "VERITASINESS\n",
      "Number of Attempts\n"
     ]
    },
    {
     "data": {
      "image/png": "[encoded data removed]",
      "text/plain": [
       "<Figure size 432x288 with 1 Axes>"
      ]
     },
     "metadata": {
      "needs_background": "light"
     },
     "output_type": "display_data"
    },
    {
     "name": "stdout",
     "output_type": "stream",
     "text": [
      "\n",
      "Summary Statistics\n",
      "                 0\n",
      "count  1072.000000\n",
      "mean      0.004664\n",
      "std       0.080710\n",
      "min       0.000000\n",
      "25%       0.000000\n",
      "50%       0.000000\n",
      "75%       0.000000\n",
      "max       2.000000\n",
      "\n",
      "\n",
      "SUM_DIGITS\n",
      "Number of Attempts\n"
     ]
    },
    {
     "data": {
      "image/png": "[encoded data removed]",
      "text/plain": [
       "<Figure size 432x288 with 1 Axes>"
      ]
     },
     "metadata": {
      "needs_background": "light"
     },
     "output_type": "display_data"
    },
    {
     "name": "stdout",
     "output_type": "stream",
     "text": [
      "\n",
      "Summary Statistics\n",
      "                 0\n",
      "count  1030.000000\n",
      "mean      2.264078\n",
      "std       2.165228\n",
      "min       0.000000\n",
      "25%       1.000000\n",
      "50%       1.000000\n",
      "75%       3.000000\n",
      "max      11.000000\n",
      "\n",
      "\n",
      "CONTROL\n",
      "Number of Attempts\n"
     ]
    },
    {
     "data": {
      "image/png": "[encoded data removed]",
      "text/plain": [
       "<Figure size 432x288 with 1 Axes>"
      ]
     },
     "metadata": {
      "needs_background": "light"
     },
     "output_type": "display_data"
    },
    {
     "name": "stdout",
     "output_type": "stream",
     "text": [
      "\n",
      "Summary Statistics\n",
      "                 0\n",
      "count  1072.000000\n",
      "mean      0.197761\n",
      "std       0.822237\n",
      "min       0.000000\n",
      "25%       0.000000\n",
      "50%       0.000000\n",
      "75%       0.000000\n",
      "max      12.000000\n",
      "\n",
      "\n",
      "FALLING\n",
      "Number of Attempts\n"
     ]
    },
    {
     "data": {
      "image/png": "[encoded data removed]",
      "text/plain": [
       "<Figure size 432x288 with 1 Axes>"
      ]
     },
     "metadata": {
      "needs_background": "light"
     },
     "output_type": "display_data"
    },
    {
     "name": "stdout",
     "output_type": "stream",
     "text": [
      "\n",
      "Summary Statistics\n",
      "                 0\n",
      "count  1042.000000\n",
      "mean      4.316699\n",
      "std       4.358512\n",
      "min       0.000000\n",
      "25%       1.000000\n",
      "50%       3.000000\n",
      "75%       6.000000\n",
      "max      22.000000\n",
      "\n",
      "\n",
      "DIGIT_POS_MATCH\n",
      "Number of Attempts\n"
     ]
    },
    {
     "data": {
      "image/png": "[encoded data removed]",
      "text/plain": [
       "<Figure size 432x288 with 1 Axes>"
      ]
     },
     "metadata": {
      "needs_background": "light"
     },
     "output_type": "display_data"
    },
    {
     "name": "stdout",
     "output_type": "stream",
     "text": [
      "\n",
      "Summary Statistics\n",
      "                0\n",
      "count  980.000000\n",
      "mean     4.782653\n",
      "std      4.772742\n",
      "min      0.000000\n",
      "25%      1.000000\n",
      "50%      3.000000\n",
      "75%      7.000000\n",
      "max     22.000000\n",
      "\n",
      "\n",
      "DEBUGGING-QUIZ\n",
      "Number of Attempts\n"
     ]
    },
    {
     "data": {
      "image/png": "[encoded data removed]",
      "text/plain": [
       "<Figure size 432x288 with 1 Axes>"
      ]
     },
     "metadata": {
      "needs_background": "light"
     },
     "output_type": "display_data"
    },
    {
     "name": "stdout",
     "output_type": "stream",
     "text": [
      "\n",
      "Summary Statistics\n",
      "                 0\n",
      "count  1072.000000\n",
      "mean      0.002799\n",
      "std       0.068269\n",
      "min       0.000000\n",
      "25%       0.000000\n",
      "50%       0.000000\n",
      "75%       0.000000\n",
      "max       2.000000\n",
      "\n",
      "\n",
      "BEGIN\n",
      "Number of Attempts\n"
     ]
    },
    {
     "data": {
      "image/png": "[encoded data removed]",
      "text/plain": [
       "<Figure size 432x288 with 1 Axes>"
      ]
     },
     "metadata": {
      "needs_background": "light"
     },
     "output_type": "display_data"
    },
    {
     "name": "stdout",
     "output_type": "stream",
     "text": [
      "\n",
      "Summary Statistics\n",
      "            0\n",
      "count  1072.0\n",
      "mean      0.0\n",
      "std       0.0\n",
      "min       0.0\n",
      "25%       0.0\n",
      "50%       0.0\n",
      "75%       0.0\n",
      "max       0.0\n",
      "\n",
      "\n",
      "ADD_IN_RANGE\n",
      "Number of Attempts\n"
     ]
    },
    {
     "data": {
      "image/png": "[encoded data removed]",
      "text/plain": [
       "<Figure size 432x288 with 1 Axes>"
      ]
     },
     "metadata": {
      "needs_background": "light"
     },
     "output_type": "display_data"
    },
    {
     "name": "stdout",
     "output_type": "stream",
     "text": [
      "\n",
      "Summary Statistics\n",
      "                0\n",
      "count  969.000000\n",
      "mean     4.884417\n",
      "std      4.956532\n",
      "min      0.000000\n",
      "25%      1.000000\n",
      "50%      3.000000\n",
      "75%      6.000000\n",
      "max     22.000000\n",
      "\n",
      "\n",
      "K_OCCURRENCE\n",
      "Number of Attempts\n"
     ]
    },
    {
     "data": {
      "image/png": "[encoded data removed]",
      "text/plain": [
       "<Figure size 432x288 with 1 Axes>"
      ]
     },
     "metadata": {
      "needs_background": "light"
     },
     "output_type": "display_data"
    },
    {
     "name": "stdout",
     "output_type": "stream",
     "text": [
      "\n",
      "Summary Statistics\n",
      "                 0\n",
      "count  1013.000000\n",
      "mean      1.610069\n",
      "std       2.261767\n",
      "min       0.000000\n",
      "25%       0.000000\n",
      "50%       1.000000\n",
      "75%       2.000000\n",
      "max      10.000000\n",
      "\n",
      "\n",
      "DOUBLE_EIGHTS\n",
      "Number of Attempts\n"
     ]
    },
    {
     "data": {
      "image/png": "[encoded data removed]",
      "text/plain": [
       "<Figure size 432x288 with 1 Axes>"
      ]
     },
     "metadata": {
      "needs_background": "light"
     },
     "output_type": "display_data"
    },
    {
     "name": "stdout",
     "output_type": "stream",
     "text": [
      "\n",
      "Summary Statistics\n",
      "                 0\n",
      "count  1072.000000\n",
      "mean      1.322761\n",
      "std       2.933169\n",
      "min       0.000000\n",
      "25%       0.000000\n",
      "50%       0.000000\n",
      "75%       1.000000\n",
      "max      30.000000\n",
      "\n"
     ]
    }
   ],
   "source": [
    "# print(assignment_dfs[name].head())\n",
    "num_attempts_graphs('lab01-sp22.csv')"
   ]
  },
  {
   "cell_type": "code",
   "execution_count": 16,
   "id": "9994e524",
   "metadata": {
    "scrolled": true
   },
   "outputs": [
    {
     "name": "stdout",
     "output_type": "stream",
     "text": [
      "\n",
      "Generating num attempts for lab01-sp22.csv, stratified by level, using ['Veritasiness', 'sum_digits', 'Control', 'falling', 'digit_pos_match', 'debugging-quiz', 'begin', 'add_in_range', 'k_occurrence', 'double_eights']\n",
      "BEGINNER\n",
      "\n",
      "VERITASINESS\n",
      "Number of Attempts\n"
     ]
    },
    {
     "data": {
      "image/png": "[encoded data removed]",
      "text/plain": [
       "<Figure size 432x288 with 1 Axes>"
      ]
     },
     "metadata": {
      "needs_background": "light"
     },
     "output_type": "display_data"
    },
    {
     "name": "stdout",
     "output_type": "stream",
     "text": [
      "\n",
      "Summary Statistics\n",
      "                0\n",
      "count  300.000000\n",
      "mean     0.010000\n",
      "std      0.128927\n",
      "min      0.000000\n",
      "25%      0.000000\n",
      "50%      0.000000\n",
      "75%      0.000000\n",
      "max      2.000000\n",
      "\n",
      "\n",
      "SUM_DIGITS\n",
      "Number of Attempts\n"
     ]
    },
    {
     "data": {
      "image/png": "[encoded data removed]",
      "text/plain": [
       "<Figure size 432x288 with 1 Axes>"
      ]
     },
     "metadata": {
      "needs_background": "light"
     },
     "output_type": "display_data"
    },
    {
     "name": "stdout",
     "output_type": "stream",
     "text": [
      "\n",
      "Summary Statistics\n",
      "                0\n",
      "count  288.000000\n",
      "mean     2.555556\n",
      "std      2.277837\n",
      "min      0.000000\n",
      "25%      1.000000\n",
      "50%      2.000000\n",
      "75%      3.250000\n",
      "max     11.000000\n",
      "\n",
      "\n",
      "CONTROL\n",
      "Number of Attempts\n"
     ]
    },
    {
     "data": {
      "image/png": "[encoded data removed]",
      "text/plain": [
       "<Figure size 432x288 with 1 Axes>"
      ]
     },
     "metadata": {
      "needs_background": "light"
     },
     "output_type": "display_data"
    },
    {
     "name": "stdout",
     "output_type": "stream",
     "text": [
      "\n",
      "Summary Statistics\n",
      "                0\n",
      "count  300.000000\n",
      "mean     0.153333\n",
      "std      0.545418\n",
      "min      0.000000\n",
      "25%      0.000000\n",
      "50%      0.000000\n",
      "75%      0.000000\n",
      "max      6.000000\n",
      "\n",
      "\n",
      "FALLING\n",
      "Number of Attempts\n"
     ]
    },
    {
     "data": {
      "image/png": "[encoded data removed]",
      "text/plain": [
       "<Figure size 432x288 with 1 Axes>"
      ]
     },
     "metadata": {
      "needs_background": "light"
     },
     "output_type": "display_data"
    },
    {
     "name": "stdout",
     "output_type": "stream",
     "text": [
      "\n",
      "Summary Statistics\n",
      "                0\n",
      "count  288.000000\n",
      "mean     4.684028\n",
      "std      4.481571\n",
      "min      0.000000\n",
      "25%      1.000000\n",
      "50%      3.000000\n",
      "75%      7.000000\n",
      "max     22.000000\n",
      "\n",
      "\n",
      "DIGIT_POS_MATCH\n",
      "Number of Attempts\n"
     ]
    },
    {
     "data": {
      "image/png": "[encoded data removed]",
      "text/plain": [
       "<Figure size 432x288 with 1 Axes>"
      ]
     },
     "metadata": {
      "needs_background": "light"
     },
     "output_type": "display_data"
    },
    {
     "name": "stdout",
     "output_type": "stream",
     "text": [
      "\n",
      "Summary Statistics\n",
      "                0\n",
      "count  278.000000\n",
      "mean     6.931655\n",
      "std      7.970093\n",
      "min      0.000000\n",
      "25%      1.000000\n",
      "50%      4.000000\n",
      "75%      9.000000\n",
      "max     44.000000\n",
      "\n",
      "\n",
      "DEBUGGING-QUIZ\n",
      "Number of Attempts\n"
     ]
    },
    {
     "data": {
      "image/png": "[encoded data removed]",
      "text/plain": [
       "<Figure size 432x288 with 1 Axes>"
      ]
     },
     "metadata": {
      "needs_background": "light"
     },
     "output_type": "display_data"
    },
    {
     "name": "stdout",
     "output_type": "stream",
     "text": [
      "\n",
      "Summary Statistics\n",
      "                0\n",
      "count  300.000000\n",
      "mean     0.010000\n",
      "std      0.128927\n",
      "min      0.000000\n",
      "25%      0.000000\n",
      "50%      0.000000\n",
      "75%      0.000000\n",
      "max      2.000000\n",
      "\n",
      "\n",
      "BEGIN\n",
      "Number of Attempts\n"
     ]
    },
    {
     "data": {
      "image/png": "[encoded data removed]",
      "text/plain": [
       "<Figure size 432x288 with 1 Axes>"
      ]
     },
     "metadata": {
      "needs_background": "light"
     },
     "output_type": "display_data"
    },
    {
     "name": "stdout",
     "output_type": "stream",
     "text": [
      "\n",
      "Summary Statistics\n",
      "           0\n",
      "count  300.0\n",
      "mean     0.0\n",
      "std      0.0\n",
      "min      0.0\n",
      "25%      0.0\n",
      "50%      0.0\n",
      "75%      0.0\n",
      "max      0.0\n",
      "\n",
      "\n",
      "ADD_IN_RANGE\n",
      "Number of Attempts\n"
     ]
    },
    {
     "data": {
      "image/png": "[encoded data removed]",
      "text/plain": [
       "<Figure size 432x288 with 1 Axes>"
      ]
     },
     "metadata": {
      "needs_background": "light"
     },
     "output_type": "display_data"
    },
    {
     "name": "stdout",
     "output_type": "stream",
     "text": [
      "\n",
      "Summary Statistics\n",
      "                0\n",
      "count  279.000000\n",
      "mean     6.444444\n",
      "std      6.805332\n",
      "min      0.000000\n",
      "25%      2.000000\n",
      "50%      4.000000\n",
      "75%      9.000000\n",
      "max     32.000000\n",
      "\n",
      "\n",
      "K_OCCURRENCE\n",
      "Number of Attempts\n"
     ]
    },
    {
     "data": {
      "image/png": "[encoded data removed]",
      "text/plain": [
       "<Figure size 432x288 with 1 Axes>"
      ]
     },
     "metadata": {
      "needs_background": "light"
     },
     "output_type": "display_data"
    },
    {
     "name": "stdout",
     "output_type": "stream",
     "text": [
      "\n",
      "Summary Statistics\n",
      "                0\n",
      "count  279.000000\n",
      "mean     1.616487\n",
      "std      2.297922\n",
      "min      0.000000\n",
      "25%      0.000000\n",
      "50%      1.000000\n",
      "75%      2.000000\n",
      "max     10.000000\n",
      "\n",
      "\n",
      "DOUBLE_EIGHTS\n",
      "Number of Attempts\n"
     ]
    },
    {
     "data": {
      "image/png": "[encoded data removed]",
      "text/plain": [
       "<Figure size 432x288 with 1 Axes>"
      ]
     },
     "metadata": {
      "needs_background": "light"
     },
     "output_type": "display_data"
    },
    {
     "name": "stdout",
     "output_type": "stream",
     "text": [
      "\n",
      "Summary Statistics\n",
      "                0\n",
      "count  300.000000\n",
      "mean     1.326667\n",
      "std      2.932910\n",
      "min      0.000000\n",
      "25%      0.000000\n",
      "50%      0.000000\n",
      "75%      1.000000\n",
      "max     24.000000\n",
      "\n",
      "INTERMEDIATE\n",
      "\n",
      "VERITASINESS\n",
      "Number of Attempts\n"
     ]
    },
    {
     "data": {
      "image/png": "[encoded data removed]",
      "text/plain": [
       "<Figure size 432x288 with 1 Axes>"
      ]
     },
     "metadata": {
      "needs_background": "light"
     },
     "output_type": "display_data"
    },
    {
     "name": "stdout",
     "output_type": "stream",
     "text": [
      "\n",
      "Summary Statistics\n",
      "                0\n",
      "count  122.000000\n",
      "mean     0.008197\n",
      "std      0.090536\n",
      "min      0.000000\n",
      "25%      0.000000\n",
      "50%      0.000000\n",
      "75%      0.000000\n",
      "max      1.000000\n",
      "\n",
      "\n",
      "SUM_DIGITS\n",
      "Number of Attempts\n"
     ]
    },
    {
     "data": {
      "image/png": "[encoded data removed]",
      "text/plain": [
       "<Figure size 432x288 with 1 Axes>"
      ]
     },
     "metadata": {
      "needs_background": "light"
     },
     "output_type": "display_data"
    },
    {
     "name": "stdout",
     "output_type": "stream",
     "text": [
      "\n",
      "Summary Statistics\n",
      "                0\n",
      "count  116.000000\n",
      "mean     2.327586\n",
      "std      2.283308\n",
      "min      0.000000\n",
      "25%      1.000000\n",
      "50%      1.000000\n",
      "75%      3.000000\n",
      "max     11.000000\n",
      "\n",
      "\n",
      "CONTROL\n",
      "Number of Attempts\n"
     ]
    },
    {
     "data": {
      "image/png": "[encoded data removed]",
      "text/plain": [
       "<Figure size 432x288 with 1 Axes>"
      ]
     },
     "metadata": {
      "needs_background": "light"
     },
     "output_type": "display_data"
    },
    {
     "name": "stdout",
     "output_type": "stream",
     "text": [
      "\n",
      "Summary Statistics\n",
      "                0\n",
      "count  122.000000\n",
      "mean     0.057377\n",
      "std      0.233521\n",
      "min      0.000000\n",
      "25%      0.000000\n",
      "50%      0.000000\n",
      "75%      0.000000\n",
      "max      1.000000\n",
      "\n",
      "\n",
      "FALLING\n",
      "Number of Attempts\n"
     ]
    },
    {
     "data": {
      "image/png": "[encoded data removed]",
      "text/plain": [
       "<Figure size 432x288 with 1 Axes>"
      ]
     },
     "metadata": {
      "needs_background": "light"
     },
     "output_type": "display_data"
    },
    {
     "name": "stdout",
     "output_type": "stream",
     "text": [
      "\n",
      "Summary Statistics\n",
      "                0\n",
      "count  122.000000\n",
      "mean     4.868852\n",
      "std      4.702647\n",
      "min      0.000000\n",
      "25%      1.250000\n",
      "50%      3.500000\n",
      "75%      7.000000\n",
      "max     27.000000\n",
      "\n",
      "\n",
      "DIGIT_POS_MATCH\n",
      "Number of Attempts\n"
     ]
    },
    {
     "data": {
      "image/png": "[encoded data removed]",
      "text/plain": [
       "<Figure size 432x288 with 1 Axes>"
      ]
     },
     "metadata": {
      "needs_background": "light"
     },
     "output_type": "display_data"
    },
    {
     "name": "stdout",
     "output_type": "stream",
     "text": [
      "\n",
      "Summary Statistics\n",
      "                0\n",
      "count  115.000000\n",
      "mean     5.008696\n",
      "std      5.108465\n",
      "min      0.000000\n",
      "25%      1.000000\n",
      "50%      3.000000\n",
      "75%      7.000000\n",
      "max     25.000000\n",
      "\n",
      "\n",
      "DEBUGGING-QUIZ\n",
      "Number of Attempts\n"
     ]
    },
    {
     "data": {
      "image/png": "[encoded data removed]",
      "text/plain": [
       "<Figure size 432x288 with 1 Axes>"
      ]
     },
     "metadata": {
      "needs_background": "light"
     },
     "output_type": "display_data"
    },
    {
     "name": "stdout",
     "output_type": "stream",
     "text": [
      "\n",
      "Summary Statistics\n",
      "           0\n",
      "count  122.0\n",
      "mean     0.0\n",
      "std      0.0\n",
      "min      0.0\n",
      "25%      0.0\n",
      "50%      0.0\n",
      "75%      0.0\n",
      "max      0.0\n",
      "\n",
      "\n",
      "BEGIN\n",
      "Number of Attempts\n"
     ]
    },
    {
     "data": {
      "image/png": "[encoded data removed]",
      "text/plain": [
       "<Figure size 432x288 with 1 Axes>"
      ]
     },
     "metadata": {
      "needs_background": "light"
     },
     "output_type": "display_data"
    },
    {
     "name": "stdout",
     "output_type": "stream",
     "text": [
      "\n",
      "Summary Statistics\n",
      "           0\n",
      "count  122.0\n",
      "mean     0.0\n",
      "std      0.0\n",
      "min      0.0\n",
      "25%      0.0\n",
      "50%      0.0\n",
      "75%      0.0\n",
      "max      0.0\n",
      "\n",
      "\n",
      "ADD_IN_RANGE\n",
      "Number of Attempts\n"
     ]
    },
    {
     "data": {
      "image/png": "[encoded data removed]",
      "text/plain": [
       "<Figure size 432x288 with 1 Axes>"
      ]
     },
     "metadata": {
      "needs_background": "light"
     },
     "output_type": "display_data"
    },
    {
     "name": "stdout",
     "output_type": "stream",
     "text": [
      "\n",
      "Summary Statistics\n",
      "                0\n",
      "count  109.000000\n",
      "mean     3.045872\n",
      "std      2.688747\n",
      "min      0.000000\n",
      "25%      1.000000\n",
      "50%      2.000000\n",
      "75%      4.000000\n",
      "max     11.000000\n",
      "\n",
      "\n",
      "K_OCCURRENCE\n",
      "Number of Attempts\n"
     ]
    },
    {
     "data": {
      "image/png": "[encoded data removed]",
      "text/plain": [
       "<Figure size 432x288 with 1 Axes>"
      ]
     },
     "metadata": {
      "needs_background": "light"
     },
     "output_type": "display_data"
    },
    {
     "name": "stdout",
     "output_type": "stream",
     "text": [
      "\n",
      "Summary Statistics\n",
      "                0\n",
      "count  114.000000\n",
      "mean     1.675439\n",
      "std      2.080230\n",
      "min      0.000000\n",
      "25%      0.000000\n",
      "50%      1.000000\n",
      "75%      2.000000\n",
      "max     10.000000\n",
      "\n",
      "\n",
      "DOUBLE_EIGHTS\n",
      "Number of Attempts\n"
     ]
    },
    {
     "data": {
      "image/png": "[encoded data removed]",
      "text/plain": [
       "<Figure size 432x288 with 1 Axes>"
      ]
     },
     "metadata": {
      "needs_background": "light"
     },
     "output_type": "display_data"
    },
    {
     "name": "stdout",
     "output_type": "stream",
     "text": [
      "\n",
      "Summary Statistics\n",
      "                0\n",
      "count  122.000000\n",
      "mean     1.811475\n",
      "std      3.083767\n",
      "min      0.000000\n",
      "25%      0.000000\n",
      "50%      0.000000\n",
      "75%      2.000000\n",
      "max     16.000000\n",
      "\n",
      "ADVANCED\n",
      "\n",
      "VERITASINESS\n",
      "Number of Attempts\n"
     ]
    },
    {
     "data": {
      "image/png": "[encoded data removed]",
      "text/plain": [
       "<Figure size 432x288 with 1 Axes>"
      ]
     },
     "metadata": {
      "needs_background": "light"
     },
     "output_type": "display_data"
    },
    {
     "name": "stdout",
     "output_type": "stream",
     "text": [
      "\n",
      "Summary Statistics\n",
      "          0\n",
      "count  18.0\n",
      "mean    0.0\n",
      "std     0.0\n",
      "min     0.0\n",
      "25%     0.0\n",
      "50%     0.0\n",
      "75%     0.0\n",
      "max     0.0\n",
      "\n",
      "\n",
      "SUM_DIGITS\n",
      "Number of Attempts\n"
     ]
    },
    {
     "data": {
      "image/png": "[encoded data removed]",
      "text/plain": [
       "<Figure size 432x288 with 1 Axes>"
      ]
     },
     "metadata": {
      "needs_background": "light"
     },
     "output_type": "display_data"
    },
    {
     "name": "stdout",
     "output_type": "stream",
     "text": [
      "\n",
      "Summary Statistics\n",
      "               0\n",
      "count  18.000000\n",
      "mean    2.333333\n",
      "std     2.249183\n",
      "min     0.000000\n",
      "25%     1.000000\n",
      "50%     1.000000\n",
      "75%     3.750000\n",
      "max     8.000000\n",
      "\n",
      "\n",
      "CONTROL\n",
      "Number of Attempts\n"
     ]
    },
    {
     "data": {
      "image/png": "[encoded data removed]",
      "text/plain": [
       "<Figure size 432x288 with 1 Axes>"
      ]
     },
     "metadata": {
      "needs_background": "light"
     },
     "output_type": "display_data"
    },
    {
     "name": "stdout",
     "output_type": "stream",
     "text": [
      "\n",
      "Summary Statistics\n",
      "               0\n",
      "count  18.000000\n",
      "mean    0.055556\n",
      "std     0.235702\n",
      "min     0.000000\n",
      "25%     0.000000\n",
      "50%     0.000000\n",
      "75%     0.000000\n",
      "max     1.000000\n",
      "\n",
      "\n",
      "FALLING\n",
      "Number of Attempts\n"
     ]
    },
    {
     "data": {
      "image/png": "[encoded data removed]",
      "text/plain": [
       "<Figure size 432x288 with 1 Axes>"
      ]
     },
     "metadata": {
      "needs_background": "light"
     },
     "output_type": "display_data"
    },
    {
     "name": "stdout",
     "output_type": "stream",
     "text": [
      "\n",
      "Summary Statistics\n",
      "               0\n",
      "count  17.000000\n",
      "mean    4.058824\n",
      "std     3.399827\n",
      "min     1.000000\n",
      "25%     2.000000\n",
      "50%     3.000000\n",
      "75%     5.000000\n",
      "max    16.000000\n",
      "\n",
      "\n",
      "DIGIT_POS_MATCH\n",
      "Number of Attempts\n"
     ]
    },
    {
     "data": {
      "image/png": "[encoded data removed]",
      "text/plain": [
       "<Figure size 432x288 with 1 Axes>"
      ]
     },
     "metadata": {
      "needs_background": "light"
     },
     "output_type": "display_data"
    },
    {
     "name": "stdout",
     "output_type": "stream",
     "text": [
      "\n",
      "Summary Statistics\n",
      "               0\n",
      "count  15.000000\n",
      "mean    2.800000\n",
      "std     2.484236\n",
      "min     1.000000\n",
      "25%     1.000000\n",
      "50%     2.000000\n",
      "75%     3.000000\n",
      "max    10.000000\n",
      "\n",
      "\n",
      "DEBUGGING-QUIZ\n",
      "Number of Attempts\n"
     ]
    },
    {
     "data": {
      "image/png": "[encoded data removed]",
      "text/plain": [
       "<Figure size 432x288 with 1 Axes>"
      ]
     },
     "metadata": {
      "needs_background": "light"
     },
     "output_type": "display_data"
    },
    {
     "name": "stdout",
     "output_type": "stream",
     "text": [
      "\n",
      "Summary Statistics\n",
      "          0\n",
      "count  18.0\n",
      "mean    0.0\n",
      "std     0.0\n",
      "min     0.0\n",
      "25%     0.0\n",
      "50%     0.0\n",
      "75%     0.0\n",
      "max     0.0\n",
      "\n",
      "\n",
      "BEGIN\n",
      "Number of Attempts\n"
     ]
    },
    {
     "data": {
      "image/png": "[encoded data removed]",
      "text/plain": [
       "<Figure size 432x288 with 1 Axes>"
      ]
     },
     "metadata": {
      "needs_background": "light"
     },
     "output_type": "display_data"
    },
    {
     "name": "stdout",
     "output_type": "stream",
     "text": [
      "\n",
      "Summary Statistics\n",
      "          0\n",
      "count  18.0\n",
      "mean    0.0\n",
      "std     0.0\n",
      "min     0.0\n",
      "25%     0.0\n",
      "50%     0.0\n",
      "75%     0.0\n",
      "max     0.0\n",
      "\n",
      "\n",
      "ADD_IN_RANGE\n",
      "Number of Attempts\n"
     ]
    },
    {
     "data": {
      "image/png": "[encoded data removed]",
      "text/plain": [
       "<Figure size 432x288 with 1 Axes>"
      ]
     },
     "metadata": {
      "needs_background": "light"
     },
     "output_type": "display_data"
    },
    {
     "name": "stdout",
     "output_type": "stream",
     "text": [
      "\n",
      "Summary Statistics\n",
      "               0\n",
      "count  16.000000\n",
      "mean    2.812500\n",
      "std     2.197536\n",
      "min     1.000000\n",
      "25%     1.000000\n",
      "50%     2.000000\n",
      "75%     4.000000\n",
      "max     8.000000\n",
      "\n",
      "\n",
      "K_OCCURRENCE\n",
      "Number of Attempts\n"
     ]
    },
    {
     "data": {
      "image/png": "[encoded data removed]",
      "text/plain": [
       "<Figure size 432x288 with 1 Axes>"
      ]
     },
     "metadata": {
      "needs_background": "light"
     },
     "output_type": "display_data"
    },
    {
     "name": "stdout",
     "output_type": "stream",
     "text": [
      "\n",
      "Summary Statistics\n",
      "               0\n",
      "count  16.000000\n",
      "mean    1.625000\n",
      "std     1.310216\n",
      "min     0.000000\n",
      "25%     1.000000\n",
      "50%     1.000000\n",
      "75%     2.000000\n",
      "max     5.000000\n",
      "\n",
      "\n",
      "DOUBLE_EIGHTS\n",
      "Number of Attempts\n"
     ]
    },
    {
     "data": {
      "image/png": "[encoded data removed]",
      "text/plain": [
       "<Figure size 432x288 with 1 Axes>"
      ]
     },
     "metadata": {
      "needs_background": "light"
     },
     "output_type": "display_data"
    },
    {
     "name": "stdout",
     "output_type": "stream",
     "text": [
      "\n",
      "Summary Statistics\n",
      "               0\n",
      "count  18.000000\n",
      "mean    2.000000\n",
      "std     2.678894\n",
      "min     0.000000\n",
      "25%     0.000000\n",
      "50%     1.000000\n",
      "75%     2.750000\n",
      "max     8.000000\n",
      "\n"
     ]
    }
   ],
   "source": [
    "num_attempts_graphs_by_level('lab01-sp22.csv')"
   ]
  },
  {
   "cell_type": "code",
   "execution_count": 17,
   "id": "9a1136f7",
   "metadata": {
    "scrolled": true
   },
   "outputs": [
    {
     "name": "stdout",
     "output_type": "stream",
     "text": [
      "\n",
      "Generating num attempts for lab01-sp22.csv, for people in NO_LANGUAGES_BEFORE, using ['Veritasiness', 'sum_digits', 'Control', 'falling', 'digit_pos_match', 'debugging-quiz', 'begin', 'add_in_range', 'k_occurrence', 'double_eights']\n",
      "\n",
      "VERITASINESS\n",
      "Number of Attempts\n"
     ]
    },
    {
     "data": {
      "image/png": "[encoded data removed]",
      "text/plain": [
       "<Figure size 432x288 with 1 Axes>"
      ]
     },
     "metadata": {
      "needs_background": "light"
     },
     "output_type": "display_data"
    },
    {
     "name": "stdout",
     "output_type": "stream",
     "text": [
      "\n",
      "Summary Statistics\n",
      "          0\n",
      "count  47.0\n",
      "mean    0.0\n",
      "std     0.0\n",
      "min     0.0\n",
      "25%     0.0\n",
      "50%     0.0\n",
      "75%     0.0\n",
      "max     0.0\n",
      "\n",
      "\n",
      "SUM_DIGITS\n",
      "Number of Attempts\n"
     ]
    },
    {
     "data": {
      "image/png": "[encoded data removed]",
      "text/plain": [
       "<Figure size 432x288 with 1 Axes>"
      ]
     },
     "metadata": {
      "needs_background": "light"
     },
     "output_type": "display_data"
    },
    {
     "name": "stdout",
     "output_type": "stream",
     "text": [
      "\n",
      "Summary Statistics\n",
      "               0\n",
      "count  45.000000\n",
      "mean    2.622222\n",
      "std     2.424205\n",
      "min     0.000000\n",
      "25%     1.000000\n",
      "50%     2.000000\n",
      "75%     4.000000\n",
      "max    11.000000\n",
      "\n",
      "\n",
      "CONTROL\n",
      "Number of Attempts\n"
     ]
    },
    {
     "data": {
      "image/png": "[encoded data removed]",
      "text/plain": [
       "<Figure size 432x288 with 1 Axes>"
      ]
     },
     "metadata": {
      "needs_background": "light"
     },
     "output_type": "display_data"
    },
    {
     "name": "stdout",
     "output_type": "stream",
     "text": [
      "\n",
      "Summary Statistics\n",
      "               0\n",
      "count  47.000000\n",
      "mean    0.127660\n",
      "std     0.396562\n",
      "min     0.000000\n",
      "25%     0.000000\n",
      "50%     0.000000\n",
      "75%     0.000000\n",
      "max     2.000000\n",
      "\n",
      "\n",
      "FALLING\n",
      "Number of Attempts\n"
     ]
    },
    {
     "data": {
      "image/png": "[encoded data removed]",
      "text/plain": [
       "<Figure size 432x288 with 1 Axes>"
      ]
     },
     "metadata": {
      "needs_background": "light"
     },
     "output_type": "display_data"
    },
    {
     "name": "stdout",
     "output_type": "stream",
     "text": [
      "\n",
      "Summary Statistics\n",
      "               0\n",
      "count  47.000000\n",
      "mean    5.914894\n",
      "std     6.510292\n",
      "min     0.000000\n",
      "25%     2.000000\n",
      "50%     4.000000\n",
      "75%     8.500000\n",
      "max    30.000000\n",
      "\n",
      "\n",
      "DIGIT_POS_MATCH\n",
      "Number of Attempts\n"
     ]
    },
    {
     "data": {
      "image/png": "[encoded data removed]",
      "text/plain": [
       "<Figure size 432x288 with 1 Axes>"
      ]
     },
     "metadata": {
      "needs_background": "light"
     },
     "output_type": "display_data"
    },
    {
     "name": "stdout",
     "output_type": "stream",
     "text": [
      "\n",
      "Summary Statistics\n",
      "               0\n",
      "count  45.000000\n",
      "mean    9.800000\n",
      "std    10.786355\n",
      "min     1.000000\n",
      "25%     1.000000\n",
      "50%     7.000000\n",
      "75%    14.000000\n",
      "max    49.000000\n",
      "\n",
      "\n",
      "DEBUGGING-QUIZ\n",
      "Number of Attempts\n"
     ]
    },
    {
     "data": {
      "image/png": "[encoded data removed]",
      "text/plain": [
       "<Figure size 432x288 with 1 Axes>"
      ]
     },
     "metadata": {
      "needs_background": "light"
     },
     "output_type": "display_data"
    },
    {
     "name": "stdout",
     "output_type": "stream",
     "text": [
      "\n",
      "Summary Statistics\n",
      "          0\n",
      "count  47.0\n",
      "mean    0.0\n",
      "std     0.0\n",
      "min     0.0\n",
      "25%     0.0\n",
      "50%     0.0\n",
      "75%     0.0\n",
      "max     0.0\n",
      "\n",
      "\n",
      "BEGIN\n",
      "Number of Attempts\n"
     ]
    },
    {
     "data": {
      "image/png": "[encoded data removed]",
      "text/plain": [
       "<Figure size 432x288 with 1 Axes>"
      ]
     },
     "metadata": {
      "needs_background": "light"
     },
     "output_type": "display_data"
    },
    {
     "name": "stdout",
     "output_type": "stream",
     "text": [
      "\n",
      "Summary Statistics\n",
      "          0\n",
      "count  47.0\n",
      "mean    0.0\n",
      "std     0.0\n",
      "min     0.0\n",
      "25%     0.0\n",
      "50%     0.0\n",
      "75%     0.0\n",
      "max     0.0\n",
      "\n",
      "\n",
      "ADD_IN_RANGE\n",
      "Number of Attempts\n"
     ]
    },
    {
     "data": {
      "image/png": "[encoded data removed]",
      "text/plain": [
       "<Figure size 432x288 with 1 Axes>"
      ]
     },
     "metadata": {
      "needs_background": "light"
     },
     "output_type": "display_data"
    },
    {
     "name": "stdout",
     "output_type": "stream",
     "text": [
      "\n",
      "Summary Statistics\n",
      "               0\n",
      "count  45.000000\n",
      "mean   12.711111\n",
      "std    14.237630\n",
      "min     1.000000\n",
      "25%     3.000000\n",
      "50%     7.000000\n",
      "75%    16.000000\n",
      "max    61.000000\n",
      "\n",
      "\n",
      "K_OCCURRENCE\n",
      "Number of Attempts\n"
     ]
    },
    {
     "data": {
      "image/png": "[encoded data removed]",
      "text/plain": [
       "<Figure size 432x288 with 1 Axes>"
      ]
     },
     "metadata": {
      "needs_background": "light"
     },
     "output_type": "display_data"
    },
    {
     "name": "stdout",
     "output_type": "stream",
     "text": [
      "\n",
      "Summary Statistics\n",
      "               0\n",
      "count  47.000000\n",
      "mean    3.255319\n",
      "std     8.236895\n",
      "min     0.000000\n",
      "25%     0.000000\n",
      "50%     0.000000\n",
      "75%     2.500000\n",
      "max    48.000000\n",
      "\n",
      "\n",
      "DOUBLE_EIGHTS\n",
      "Number of Attempts\n"
     ]
    },
    {
     "data": {
      "image/png": "[encoded data removed]",
      "text/plain": [
       "<Figure size 432x288 with 1 Axes>"
      ]
     },
     "metadata": {
      "needs_background": "light"
     },
     "output_type": "display_data"
    },
    {
     "name": "stdout",
     "output_type": "stream",
     "text": [
      "\n",
      "Summary Statistics\n",
      "               0\n",
      "count  47.000000\n",
      "mean    0.808511\n",
      "std     1.377431\n",
      "min     0.000000\n",
      "25%     0.000000\n",
      "50%     0.000000\n",
      "75%     1.000000\n",
      "max     5.000000\n",
      "\n"
     ]
    }
   ],
   "source": [
    "num_attempts_graphs_using_df('lab01-sp22.csv', sp22_df_filters['no_languages_before'], 'no_languages_before')"
   ]
  },
  {
   "cell_type": "code",
   "execution_count": 18,
   "id": "6c6cac36",
   "metadata": {},
   "outputs": [
    {
     "ename": "TypeError",
     "evalue": "the JSON object must be str, bytes or bytearray, not int",
     "output_type": "error",
     "traceback": [
      "\u001b[0;31m---------------------------------------------------------------------------\u001b[0m",
      "\u001b[0;31mTypeError\u001b[0m                                 Traceback (most recent call last)",
      "\u001b[0;32m/var/folders/77/prcyd5395_z7xqph_908xv4h0000gn/T/ipykernel_50092/3876465886.py\u001b[0m in \u001b[0;36m<module>\u001b[0;34m\u001b[0m\n\u001b[0;32m----> 1\u001b[0;31m \u001b[0mnum_attempts_graphs\u001b[0m\u001b[0;34m(\u001b[0m\u001b[0;34m'lab02-sp21.csv'\u001b[0m\u001b[0;34m)\u001b[0m\u001b[0;34m\u001b[0m\u001b[0;34m\u001b[0m\u001b[0m\n\u001b[0m",
      "\u001b[0;32m/var/folders/77/prcyd5395_z7xqph_908xv4h0000gn/T/ipykernel_50092/3191323190.py\u001b[0m in \u001b[0;36mnum_attempts_graphs\u001b[0;34m(name)\u001b[0m\n\u001b[1;32m      1\u001b[0m \u001b[0;32mdef\u001b[0m \u001b[0mnum_attempts_graphs\u001b[0m\u001b[0;34m(\u001b[0m\u001b[0mname\u001b[0m\u001b[0;34m)\u001b[0m\u001b[0;34m:\u001b[0m\u001b[0;34m\u001b[0m\u001b[0;34m\u001b[0m\u001b[0m\n\u001b[1;32m      2\u001b[0m     \u001b[0mload_assignment_df\u001b[0m\u001b[0;34m(\u001b[0m\u001b[0mname\u001b[0m\u001b[0;34m)\u001b[0m\u001b[0;34m\u001b[0m\u001b[0;34m\u001b[0m\u001b[0m\n\u001b[0;32m----> 3\u001b[0;31m     \u001b[0mquestions\u001b[0m \u001b[0;34m=\u001b[0m \u001b[0mget_questions\u001b[0m\u001b[0;34m(\u001b[0m\u001b[0massignment_dfs\u001b[0m\u001b[0;34m[\u001b[0m\u001b[0mname\u001b[0m\u001b[0;34m]\u001b[0m\u001b[0;34m)\u001b[0m\u001b[0;34m\u001b[0m\u001b[0;34m\u001b[0m\u001b[0m\n\u001b[0m\u001b[1;32m      4\u001b[0m     \u001b[0mprint\u001b[0m\u001b[0;34m(\u001b[0m\u001b[0;34mf\"Generating num attempts for {name}, using {questions}\"\u001b[0m\u001b[0;34m)\u001b[0m\u001b[0;34m\u001b[0m\u001b[0;34m\u001b[0m\u001b[0m\n\u001b[1;32m      5\u001b[0m     \u001b[0mnum_attempts_per_question\u001b[0m \u001b[0;34m=\u001b[0m \u001b[0mgenerate_num_attempts\u001b[0m\u001b[0;34m(\u001b[0m\u001b[0massignment_dfs\u001b[0m\u001b[0;34m[\u001b[0m\u001b[0mname\u001b[0m\u001b[0;34m]\u001b[0m\u001b[0;34m,\u001b[0m \u001b[0mquestions\u001b[0m\u001b[0;34m)\u001b[0m\u001b[0;34m\u001b[0m\u001b[0;34m\u001b[0m\u001b[0m\n",
      "\u001b[0;32m/var/folders/77/prcyd5395_z7xqph_908xv4h0000gn/T/ipykernel_50092/3329844581.py\u001b[0m in \u001b[0;36mget_questions\u001b[0;34m(assignment_df)\u001b[0m\n\u001b[1;32m     22\u001b[0m     \u001b[0mquestions\u001b[0m \u001b[0;34m=\u001b[0m \u001b[0mset\u001b[0m\u001b[0;34m(\u001b[0m\u001b[0;34m)\u001b[0m\u001b[0;34m\u001b[0m\u001b[0;34m\u001b[0m\u001b[0m\n\u001b[1;32m     23\u001b[0m     \u001b[0;32mfor\u001b[0m \u001b[0mrow\u001b[0m \u001b[0;32min\u001b[0m \u001b[0massignment_df\u001b[0m\u001b[0;34m.\u001b[0m\u001b[0mitertuples\u001b[0m\u001b[0;34m(\u001b[0m\u001b[0;34m)\u001b[0m\u001b[0;34m:\u001b[0m\u001b[0;34m\u001b[0m\u001b[0;34m\u001b[0m\u001b[0m\n\u001b[0;32m---> 24\u001b[0;31m         \u001b[0mdata\u001b[0m \u001b[0;34m=\u001b[0m \u001b[0mjson\u001b[0m\u001b[0;34m.\u001b[0m\u001b[0mloads\u001b[0m\u001b[0;34m(\u001b[0m\u001b[0mrow\u001b[0m\u001b[0;34m.\u001b[0m\u001b[0mdata\u001b[0m\u001b[0;34m)\u001b[0m\u001b[0;34m\u001b[0m\u001b[0;34m\u001b[0m\u001b[0m\n\u001b[0m\u001b[1;32m     25\u001b[0m         \u001b[0;32mif\u001b[0m \u001b[0mlen\u001b[0m\u001b[0;34m(\u001b[0m\u001b[0mlist\u001b[0m\u001b[0;34m(\u001b[0m\u001b[0mdata\u001b[0m\u001b[0;34m)\u001b[0m\u001b[0;34m)\u001b[0m \u001b[0;34m!=\u001b[0m \u001b[0;36m1\u001b[0m \u001b[0;32mor\u001b[0m \u001b[0mtype\u001b[0m\u001b[0;34m(\u001b[0m\u001b[0mdata\u001b[0m\u001b[0;34m)\u001b[0m \u001b[0;34m!=\u001b[0m \u001b[0mdict\u001b[0m\u001b[0;34m:\u001b[0m\u001b[0;34m\u001b[0m\u001b[0;34m\u001b[0m\u001b[0m\n\u001b[1;32m     26\u001b[0m             \u001b[0;32mcontinue\u001b[0m\u001b[0;34m\u001b[0m\u001b[0;34m\u001b[0m\u001b[0m\n",
      "\u001b[0;32m/Library/Frameworks/Python.framework/Versions/3.10/lib/python3.10/json/__init__.py\u001b[0m in \u001b[0;36mloads\u001b[0;34m(s, cls, object_hook, parse_float, parse_int, parse_constant, object_pairs_hook, **kw)\u001b[0m\n\u001b[1;32m    337\u001b[0m     \u001b[0;32melse\u001b[0m\u001b[0;34m:\u001b[0m\u001b[0;34m\u001b[0m\u001b[0;34m\u001b[0m\u001b[0m\n\u001b[1;32m    338\u001b[0m         \u001b[0;32mif\u001b[0m \u001b[0;32mnot\u001b[0m \u001b[0misinstance\u001b[0m\u001b[0;34m(\u001b[0m\u001b[0ms\u001b[0m\u001b[0;34m,\u001b[0m \u001b[0;34m(\u001b[0m\u001b[0mbytes\u001b[0m\u001b[0;34m,\u001b[0m \u001b[0mbytearray\u001b[0m\u001b[0;34m)\u001b[0m\u001b[0;34m)\u001b[0m\u001b[0;34m:\u001b[0m\u001b[0;34m\u001b[0m\u001b[0;34m\u001b[0m\u001b[0m\n\u001b[0;32m--> 339\u001b[0;31m             raise TypeError(f'the JSON object must be str, bytes or bytearray, '\n\u001b[0m\u001b[1;32m    340\u001b[0m                             f'not {s.__class__.__name__}')\n\u001b[1;32m    341\u001b[0m         \u001b[0ms\u001b[0m \u001b[0;34m=\u001b[0m \u001b[0ms\u001b[0m\u001b[0;34m.\u001b[0m\u001b[0mdecode\u001b[0m\u001b[0;34m(\u001b[0m\u001b[0mdetect_encoding\u001b[0m\u001b[0;34m(\u001b[0m\u001b[0ms\u001b[0m\u001b[0;34m)\u001b[0m\u001b[0;34m,\u001b[0m \u001b[0;34m'surrogatepass'\u001b[0m\u001b[0;34m)\u001b[0m\u001b[0;34m\u001b[0m\u001b[0;34m\u001b[0m\u001b[0m\n",
      "\u001b[0;31mTypeError\u001b[0m: the JSON object must be str, bytes or bytearray, not int"
     ]
    }
   ],
   "source": [
    "num_attempts_graphs('lab02-sp21.csv')"
   ]
  },
  {
   "cell_type": "code",
   "execution_count": null,
   "id": "3e5d6f62",
   "metadata": {},
   "outputs": [],
   "source": [
    "num_attempts_graphs_by_level('lab01.csv')"
   ]
  },
  {
   "cell_type": "code",
   "execution_count": null,
   "id": "852fd9b9",
   "metadata": {
    "scrolled": false
   },
   "outputs": [],
   "source": [
    "name = 'lab01.csv'\n",
    "load_assignment_df(name)\n",
    "questions = get_questions(assignment_dfs[name])\n",
    "questions = ['sum_digits']\n",
    "num_attempts_per_question = generate_num_attempts(assignment_dfs[name], questions)\n",
    "for q in questions:\n",
    "    print()\n",
    "    print(f\"{q.upper()}\")\n",
    "    temp = np.array(list(num_attempts_per_question[q].values()))\n",
    "#     print(len(temp))\n",
    "    temp = reject_outliers(temp)\n",
    "    temp_final = pd.DataFrame(list(temp))\n",
    "    print()\n",
    "    print(\"Summary Statistics\")\n",
    "    summary = temp_final.describe()\n",
    "    print(summary)\n",
    "    print()\n",
    "\n",
    "# plot_num_attempts_per_question(num_attempts_per_question, questions)\n",
    "# generate_num_attempts('lab01.csv', ['double_eights'])"
   ]
  },
  {
   "cell_type": "code",
   "execution_count": null,
   "id": "c358783f",
   "metadata": {},
   "outputs": [],
   "source": [
    "summary_list = summary.values.tolist()\n",
    "summary_list = [str(s[0]) for s in summary_list]\n",
    "print(','.join(summary_list))"
   ]
  },
  {
   "cell_type": "code",
   "execution_count": null,
   "id": "87664a61",
   "metadata": {},
   "outputs": [],
   "source": [
    "print_comma_separated_summary_statistics('lab01-sp22.csv', ['digit_pos_match', 'add_in_range', 'falling', 'sum_digits'], outlier_threshold=7)"
   ]
  },
  {
   "cell_type": "code",
   "execution_count": null,
   "id": "364fe669",
   "metadata": {},
   "outputs": [],
   "source": [
    "print_comma_separated_summary_statistics('lab01.csv', ['digit_pos_match', 'add_in_range', 'falling', 'sum_digits'])"
   ]
  },
  {
   "cell_type": "code",
   "execution_count": null,
   "id": "2f25ed09",
   "metadata": {
    "scrolled": false
   },
   "outputs": [],
   "source": [
    "print_comma_separated_summary_statistics('lab02-sp22.csv', ['count_cond', 'hop','lambda_curry2','digit_index_factory'])"
   ]
  },
  {
   "cell_type": "markdown",
   "id": "4c058862",
   "metadata": {},
   "source": [
    "##  Lab 02"
   ]
  },
  {
   "cell_type": "code",
   "execution_count": null,
   "id": "b4d5b501",
   "metadata": {},
   "outputs": [],
   "source": [
    "# print(assignment_dfs[name].head())\n",
    "num_attempts_graphs('lab02-sp22.csv')"
   ]
  },
  {
   "cell_type": "code",
   "execution_count": null,
   "id": "33739374",
   "metadata": {},
   "outputs": [],
   "source": [
    "num_attempts_graphs_by_level('lab02-sp22.csv')"
   ]
  },
  {
   "cell_type": "code",
   "execution_count": null,
   "id": "fa97e4d7",
   "metadata": {},
   "outputs": [],
   "source": [
    "num_attempts_graphs('lab02-sp21.csv')"
   ]
  },
  {
   "cell_type": "code",
   "execution_count": null,
   "id": "c9305ac4",
   "metadata": {
    "scrolled": true
   },
   "outputs": [],
   "source": [
    "num_attempts_graphs_by_level('lab02.csv')"
   ]
  },
  {
   "cell_type": "code",
   "execution_count": null,
   "id": "54edd590",
   "metadata": {},
   "outputs": [],
   "source": [
    "print_comma_separated_summary_statistics('lab02-sp22.csv', ['hop', 'digit_index_factory', 'lambda_curry2', 'count_cond'])"
   ]
  },
  {
   "cell_type": "code",
   "execution_count": null,
   "id": "3eb39cbd",
   "metadata": {},
   "outputs": [],
   "source": [
    "print_comma_separated_summary_statistics('lab02.csv', ['lambda_curry2', 'count_cond'])"
   ]
  },
  {
   "cell_type": "markdown",
   "id": "0f684130",
   "metadata": {},
   "source": [
    "## Lab 04"
   ]
  },
  {
   "cell_type": "code",
   "execution_count": null,
   "id": "f155402b",
   "metadata": {},
   "outputs": [],
   "source": [
    "# print(assignment_dfs[name].head())\n",
    "num_attempts_graphs('lab04-sp22.csv')"
   ]
  },
  {
   "cell_type": "code",
   "execution_count": null,
   "id": "c25372e0",
   "metadata": {},
   "outputs": [],
   "source": [
    "num_attempts_graphs_by_level('lab04-sp22.csv')"
   ]
  },
  {
   "cell_type": "code",
   "execution_count": null,
   "id": "05f6f883",
   "metadata": {},
   "outputs": [],
   "source": [
    "num_attempts_graphs('lab04-sp21.csv')"
   ]
  },
  {
   "cell_type": "code",
   "execution_count": null,
   "id": "11a9c3de",
   "metadata": {},
   "outputs": [],
   "source": [
    "num_attempts_graphs_by_level('lab04.csv')"
   ]
  },
  {
   "cell_type": "markdown",
   "id": "ed00bcd1",
   "metadata": {},
   "source": [
    "## Lab 05"
   ]
  },
  {
   "cell_type": "code",
   "execution_count": null,
   "id": "801a8ca2",
   "metadata": {},
   "outputs": [],
   "source": [
    "# print(assignment_dfs[name].head())\n",
    "num_attempts_graphs('lab05-sp22.csv')"
   ]
  },
  {
   "cell_type": "code",
   "execution_count": null,
   "id": "e95d67e0",
   "metadata": {},
   "outputs": [],
   "source": [
    "num_attempts_graphs_by_level('lab05-sp22.csv')"
   ]
  },
  {
   "cell_type": "code",
   "execution_count": null,
   "id": "d1ed9339",
   "metadata": {},
   "outputs": [],
   "source": [
    "num_attempts_graphs('lab05.csv')"
   ]
  },
  {
   "cell_type": "code",
   "execution_count": null,
   "id": "a19efd71",
   "metadata": {},
   "outputs": [],
   "source": [
    "num_attempts_graphs_by_level('lab05.csv')"
   ]
  },
  {
   "cell_type": "markdown",
   "id": "fe7db27c",
   "metadata": {},
   "source": [
    "## Lab 06"
   ]
  },
  {
   "cell_type": "code",
   "execution_count": null,
   "id": "773bc3b5",
   "metadata": {},
   "outputs": [],
   "source": [
    "# print(assignment_dfs[name].head())\n",
    "num_attempts_graphs('lab06-sp22.csv')"
   ]
  },
  {
   "cell_type": "code",
   "execution_count": null,
   "id": "7b96d2c7",
   "metadata": {
    "scrolled": true
   },
   "outputs": [],
   "source": [
    "num_attempts_graphs_by_level('lab06-sp22.csv')"
   ]
  },
  {
   "cell_type": "code",
   "execution_count": null,
   "id": "dd3e3caa",
   "metadata": {
    "scrolled": true
   },
   "outputs": [],
   "source": [
    "num_attempts_graphs('lab06.csv')"
   ]
  },
  {
   "cell_type": "code",
   "execution_count": null,
   "id": "0aabbcc3",
   "metadata": {},
   "outputs": [],
   "source": [
    "num_attempts_graphs_by_level('lab06.csv')"
   ]
  },
  {
   "cell_type": "markdown",
   "id": "be97a154",
   "metadata": {},
   "source": [
    "## HW 01"
   ]
  },
  {
   "cell_type": "code",
   "execution_count": null,
   "id": "83e68611",
   "metadata": {
    "scrolled": true
   },
   "outputs": [],
   "source": [
    "# print(assignment_dfs[name].head())\n",
    "num_attempts_graphs('hw01-sp22.csv')"
   ]
  },
  {
   "cell_type": "code",
   "execution_count": null,
   "id": "01ccca31",
   "metadata": {},
   "outputs": [],
   "source": [
    "num_attempts_graphs_by_level('hw01-sp22.csv')"
   ]
  },
  {
   "cell_type": "code",
   "execution_count": null,
   "id": "e1701bf9",
   "metadata": {
    "scrolled": true
   },
   "outputs": [],
   "source": [
    "num_attempts_graphs_using_df('hw01-sp22.csv', sp22_df_filters['no_languages_before'], 'no_languages_before')"
   ]
  },
  {
   "cell_type": "code",
   "execution_count": null,
   "id": "edb9da5e",
   "metadata": {
    "scrolled": true
   },
   "outputs": [],
   "source": [
    "num_attempts_graphs('hw01.csv')"
   ]
  },
  {
   "cell_type": "code",
   "execution_count": null,
   "id": "1a5718a3",
   "metadata": {
    "scrolled": true
   },
   "outputs": [],
   "source": [
    "num_attempts_graphs_by_level('hw01.csv')"
   ]
  },
  {
   "cell_type": "code",
   "execution_count": null,
   "id": "a37a2f27",
   "metadata": {
    "scrolled": true
   },
   "outputs": [],
   "source": [
    "num_attempts_graphs_using_df('hw01.csv', sp21_df_filters['no_languages_before'], 'no_languages_before')"
   ]
  },
  {
   "cell_type": "markdown",
   "id": "b1028708",
   "metadata": {},
   "source": [
    "# HW 02"
   ]
  },
  {
   "cell_type": "code",
   "execution_count": null,
   "id": "28341cd9",
   "metadata": {
    "scrolled": true
   },
   "outputs": [],
   "source": [
    "num_attempts_graphs('hw02-sp22.csv')"
   ]
  },
  {
   "cell_type": "code",
   "execution_count": null,
   "id": "fcfa0497",
   "metadata": {
    "scrolled": true
   },
   "outputs": [],
   "source": [
    "num_attempts_graphs_by_level('hw02-sp22.csv')"
   ]
  },
  {
   "cell_type": "code",
   "execution_count": null,
   "id": "34dc246c",
   "metadata": {
    "scrolled": true
   },
   "outputs": [],
   "source": [
    "num_attempts_graphs_using_df('hw02-sp22.csv', sp22_df_filters['no_languages_before'], 'no_languages_before')"
   ]
  },
  {
   "cell_type": "code",
   "execution_count": null,
   "id": "3b42beba",
   "metadata": {
    "scrolled": true
   },
   "outputs": [],
   "source": [
    "num_attempts_graphs('hw02.csv')"
   ]
  },
  {
   "cell_type": "code",
   "execution_count": null,
   "id": "c1ef4fdd",
   "metadata": {
    "scrolled": true
   },
   "outputs": [],
   "source": [
    "num_attempts_graphs_by_level('hw02.csv')"
   ]
  },
  {
   "cell_type": "code",
   "execution_count": null,
   "id": "502ad1c9",
   "metadata": {},
   "outputs": [],
   "source": [
    "num_attempts_graphs_using_df('hw02.csv', sp21_df_filters['no_languages_before'], 'no_languages_before')"
   ]
  },
  {
   "cell_type": "markdown",
   "id": "a49dc1e5",
   "metadata": {},
   "source": [
    "# HW 03"
   ]
  },
  {
   "cell_type": "code",
   "execution_count": null,
   "id": "e59cb088",
   "metadata": {
    "scrolled": true
   },
   "outputs": [],
   "source": [
    "num_attempts_graphs('hw03-sp22.csv')"
   ]
  },
  {
   "cell_type": "code",
   "execution_count": null,
   "id": "48cf0907",
   "metadata": {
    "scrolled": true
   },
   "outputs": [],
   "source": [
    "num_attempts_graphs_by_level('hw03-sp22.csv')"
   ]
  },
  {
   "cell_type": "code",
   "execution_count": null,
   "id": "3a218ef1",
   "metadata": {},
   "outputs": [],
   "source": [
    "num_attempts_graphs_using_df('hw03-sp22.csv', sp22_df_filters['no_languages_before'], 'no_languages_before')"
   ]
  },
  {
   "cell_type": "code",
   "execution_count": null,
   "id": "b6dc4c84",
   "metadata": {
    "scrolled": true
   },
   "outputs": [],
   "source": [
    "num_attempts_graphs('hw03.csv')"
   ]
  },
  {
   "cell_type": "code",
   "execution_count": null,
   "id": "7a2f2b61",
   "metadata": {
    "scrolled": true
   },
   "outputs": [],
   "source": [
    "num_attempts_graphs_by_level('hw03.csv')"
   ]
  },
  {
   "cell_type": "code",
   "execution_count": null,
   "id": "0183f39d",
   "metadata": {},
   "outputs": [],
   "source": [
    "num_attempts_graphs_using_df('hw03.csv', sp21_df_filters['no_languages_before'], 'no_languages_before')"
   ]
  },
  {
   "cell_type": "markdown",
   "id": "a7b71928",
   "metadata": {},
   "source": [
    "# HW 04"
   ]
  },
  {
   "cell_type": "code",
   "execution_count": null,
   "id": "2b75f8b2",
   "metadata": {
    "scrolled": true
   },
   "outputs": [],
   "source": [
    "num_attempts_graphs('hw04-sp22.csv')"
   ]
  },
  {
   "cell_type": "code",
   "execution_count": null,
   "id": "dadc68b1",
   "metadata": {},
   "outputs": [],
   "source": [
    "num_attempts_graphs_by_level('hw04-sp22.csv')"
   ]
  },
  {
   "cell_type": "code",
   "execution_count": null,
   "id": "6247fb43",
   "metadata": {
    "scrolled": true
   },
   "outputs": [],
   "source": [
    "num_attempts_graphs('hw04.csv')"
   ]
  },
  {
   "cell_type": "code",
   "execution_count": null,
   "id": "ccadff10",
   "metadata": {},
   "outputs": [],
   "source": [
    "num_attempts_graphs_by_level('hw04.csv')"
   ]
  },
  {
   "cell_type": "markdown",
   "id": "4f230f45",
   "metadata": {},
   "source": [
    "# HW 05"
   ]
  },
  {
   "cell_type": "code",
   "execution_count": null,
   "id": "57122a08",
   "metadata": {},
   "outputs": [],
   "source": [
    "num_attempts_graphs('hw05-sp22.csv')"
   ]
  },
  {
   "cell_type": "code",
   "execution_count": null,
   "id": "5cee9bdf",
   "metadata": {
    "scrolled": true
   },
   "outputs": [],
   "source": [
    "num_attempts_graphs_by_level('hw05-sp22.csv')"
   ]
  },
  {
   "cell_type": "code",
   "execution_count": null,
   "id": "5a512105",
   "metadata": {},
   "outputs": [],
   "source": [
    "num_attempts_graphs('hw05.csv')"
   ]
  },
  {
   "cell_type": "code",
   "execution_count": null,
   "id": "483fa6db",
   "metadata": {},
   "outputs": [],
   "source": [
    "num_attempts_graphs_by_level('hw05.csv')"
   ]
  },
  {
   "cell_type": "markdown",
   "id": "f7d0700e",
   "metadata": {},
   "source": [
    "# Summary Statistics for spreadsheet"
   ]
  },
  {
   "cell_type": "code",
   "execution_count": null,
   "id": "bb5586e6",
   "metadata": {},
   "outputs": [],
   "source": [
    "print_comma_separated_summary_statistics('lab07-sp21.csv', ['cumulative_mul'], use_iqr=True)"
   ]
  },
  {
   "cell_type": "code",
   "execution_count": null,
   "id": "dffda12f",
   "metadata": {},
   "outputs": [],
   "source": [
    "print_comma_separated_summary_statistics('hw01.csv', ['k_in_num', 'two_of_three', 'a_plus_abs_b', 'largest_factor', 'with_if_statement','hailstone'], use_iqr=True)"
   ]
  },
  {
   "cell_type": "code",
   "execution_count": null,
   "id": "f7e35bd0",
   "metadata": {},
   "outputs": [],
   "source": [
    "print_comma_separated_summary_statistics('hw02-sp22.csv', ['product', 'summation_using_accumulate', 'hailstone','count_until_larger', 'product_using_accumulate', 'filter_sequence', 'accumulate', 'make_repeater'], use_iqr=True)"
   ]
  },
  {
   "cell_type": "code",
   "execution_count": null,
   "id": "8f902502",
   "metadata": {},
   "outputs": [],
   "source": [
    "print_comma_separated_summary_statistics('hw02.csv', ['product', 'summation_using_accumulate', 'hailstone','count_until_larger', 'product_using_accumulate', 'filter_sequence', 'accumulate', 'make_repeater'], use_iqr=True)"
   ]
  },
  {
   "cell_type": "code",
   "execution_count": null,
   "id": "0ea195e4",
   "metadata": {},
   "outputs": [],
   "source": [
    "print_comma_separated_summary_statistics('hw03-sp22.csv', ['has_subseq', 'count_coins', 'pingpong', 'num_eights', 'neighbor_digits', 'missing_digits'], use_iqr=True)"
   ]
  },
  {
   "cell_type": "code",
   "execution_count": null,
   "id": "6044ff28",
   "metadata": {
    "scrolled": true
   },
   "outputs": [],
   "source": [
    "print_comma_separated_summary_statistics('hw03.csv', ['has_subseq', 'count_coins', 'pingpong', 'num_eights', 'neighbor_digits', 'missing_digits'], use_iqr=True)"
   ]
  },
  {
   "cell_type": "code",
   "execution_count": null,
   "id": "7d3bd2ef",
   "metadata": {},
   "outputs": [],
   "source": [
    "print_comma_separated_summary_statistics('hw04-sp22.csv', [\n",
    "     'remove_odd_indices', 'SmartFridge', 'merge', 'VendingMachine', 'Mint'\n",
    "], use_iqr=True)"
   ]
  },
  {
   "cell_type": "code",
   "execution_count": null,
   "id": "3bd9bb22",
   "metadata": {},
   "outputs": [],
   "source": [
    "print_comma_separated_summary_statistics('hw04.csv', [\n",
    "     'balanced', 'preorder', 'total_weight', 'totals_tree', 'has_path', 'replace_thor_at_leaf'\n",
    "], use_iqr=True)"
   ]
  },
  {
   "cell_type": "code",
   "execution_count": null,
   "id": "75cc3955",
   "metadata": {},
   "outputs": [],
   "source": [
    "print_comma_separated_summary_statistics('hw05-sp22.csv', [\n",
    "     'duplicate_link', 'flatten_link', 'has_path', 'deep_map_mut', 'chain'\n",
    "], use_iqr=True)"
   ]
  },
  {
   "cell_type": "code",
   "execution_count": null,
   "id": "b8166940",
   "metadata": {},
   "outputs": [],
   "source": [
    "print_comma_separated_summary_statistics('hw05.csv', [\n",
    "     'VendingMachine', 'store_digits', 'path_yielder'\n",
    "], use_iqr=True)"
   ]
  },
  {
   "cell_type": "markdown",
   "id": "fbd241c9",
   "metadata": {},
   "source": [
    "# Time Spent"
   ]
  },
  {
   "cell_type": "code",
   "execution_count": null,
   "id": "5bbb196e",
   "metadata": {},
   "outputs": [],
   "source": [
    "def bucket_diffs(timestamps):\n",
    "    num_buckets = 0\n",
    "\n",
    "    if len(timestamps) <= 1:\n",
    "        return None\n",
    "    \n",
    "    result, timestamps = [], list(timestamps)\n",
    "    \n",
    "    initial_timestamp = parser.parse(timestamps[0])\n",
    "    \n",
    "    for i in range(len(timestamps) - 1):\n",
    "        current_timestamp = parser.parse(timestamps[i])\n",
    "        next_timestamp = parser.parse(timestamps[i + 1])\n",
    "        time_temp = (next_timestamp - current_timestamp).total_seconds() / 3600\n",
    "        \n",
    "        \n",
    "        if time_temp >= 1.2:\n",
    "            num_buckets += 1\n",
    "            temp_time_to_add = (current_timestamp - initial_timestamp).total_seconds() / 3600\n",
    "            \n",
    "            initial_timestamp = next_timestamp\n",
    "            result.append(temp_time_to_add)\n",
    "    \n",
    "    if parser.parse(timestamps[-1]) != initial_timestamp:\n",
    "        time_temp = (parser.parse(timestamps[-1]) - initial_timestamp).total_seconds() / 3600\n",
    "        result.append(time_temp)\n",
    "    \n",
    "    return result\n",
    "            "
   ]
  },
  {
   "cell_type": "code",
   "execution_count": null,
   "id": "573a42ff",
   "metadata": {},
   "outputs": [],
   "source": [
    "def keep_question(data, problem):\n",
    "\n",
    "    \n",
    "    if type(data) is str:\n",
    "        return False\n",
    "    \n",
    "    \n",
    "    data_keys = data.keys()\n",
    "\n",
    "    \n",
    "    if \"question\" in data_keys:\n",
    "        if data[\"question\"][0] == problem:\n",
    "            return True\n",
    "    else:\n",
    "        return False\n",
    "    "
   ]
  },
  {
   "cell_type": "code",
   "execution_count": null,
   "id": "0e61d690",
   "metadata": {},
   "outputs": [],
   "source": [
    "def generate_total_time_spent(name):\n",
    "    load_assignment_df(name)\n",
    "    buckets_all_students = assignment_dfs[name].groupby('student_id')['timestamp'].agg(bucket_diffs)\n",
    "    \n",
    "    bucket_times = [sum(bucket_list) for bucket_list in list(buckets_all_students) if bucket_list != None]\n",
    "    \n",
    "    plt.hist(bucket_times)\n",
    "    \n",
    "    print(pd.DataFrame(bucket_times).describe())\n",
    "\n",
    "def generate_total_time_spent_problem(name, problem):\n",
    "    load_assignment_df(name)\n",
    "    \n",
    "    # start code temp\n",
    "    \n",
    "    assignment_df_temp = assignment_dfs[name].copy()\n",
    "    \n",
    "    \n",
    "    assignment_df_temp = assignment_df_temp[assignment_df_temp['message_type'] == 'analytics']\n",
    "    \n",
    "    assignment_df_temp['data'] = assignment_df_temp['data'].map(lambda s: json.loads(s))\n",
    "    \n",
    "    data_list = list(assignment_df_temp['data'])\n",
    "    \n",
    "    \n",
    "    data_list_bool = [keep_question(temp_dict, problem) for temp_dict in data_list]\n",
    "    \n",
    "    \n",
    "    assignment_df_temp['data_list_bool'] = data_list_bool \n",
    "    \n",
    "    assignment_df_temp = assignment_df_temp[assignment_df_temp['data_list_bool'] == True]\n",
    "    \n",
    "    \n",
    "    assignment_df_temp = assignment_df_temp.drop(['data_list_bool'], axis=1)\n",
    "    \n",
    "    assignment_df_temp.head()\n",
    "    \n",
    "    # end codee temp\n",
    "    buckets_all_students = assignment_df_temp.groupby('student_id')['timestamp'].agg(bucket_diffs)\n",
    "    \n",
    "    bucket_times = [sum(bucket_list) for bucket_list in list(buckets_all_students) if bucket_list != None]\n",
    "    \n",
    "    plt.hist(bucket_times)\n",
    "    \n",
    "    \n",
    "    print(pd.DataFrame(bucket_times).describe())\n",
    "\n"
   ]
  },
  {
   "cell_type": "code",
   "execution_count": null,
   "id": "4fb7acec",
   "metadata": {},
   "outputs": [],
   "source": [
    "lab2_temp = load_assignment_df('lab05.csv')\n",
    "\n",
    "lab2_temp"
   ]
  },
  {
   "cell_type": "markdown",
   "id": "594b5299",
   "metadata": {},
   "source": [
    "# Lab 01"
   ]
  },
  {
   "cell_type": "code",
   "execution_count": null,
   "id": "9e4e6040",
   "metadata": {},
   "outputs": [],
   "source": [
    "generate_total_time_spent_problem('lab07-sp22.csv', 'label_multiplier')"
   ]
  },
  {
   "cell_type": "code",
   "execution_count": null,
   "id": "1c259bcb",
   "metadata": {},
   "outputs": [],
   "source": [
    "generate_total_time_spent('lab01-sp22.csv')"
   ]
  },
  {
   "cell_type": "markdown",
   "id": "2410f564",
   "metadata": {},
   "source": [
    "# Lab 02"
   ]
  },
  {
   "cell_type": "code",
   "execution_count": null,
   "id": "fcb4bc7e",
   "metadata": {},
   "outputs": [],
   "source": [
    "generate_total_time_spent('lab02-sp22.csv')"
   ]
  },
  {
   "cell_type": "code",
   "execution_count": null,
   "id": "7ee0f66c",
   "metadata": {},
   "outputs": [],
   "source": [
    "generate_total_time_spent('lab02.csv')"
   ]
  },
  {
   "cell_type": "markdown",
   "id": "7d755583",
   "metadata": {},
   "source": [
    "# Lab 04"
   ]
  },
  {
   "cell_type": "code",
   "execution_count": null,
   "id": "0b0541e1",
   "metadata": {},
   "outputs": [],
   "source": [
    "generate_total_time_spent('lab04-sp22.csv')"
   ]
  },
  {
   "cell_type": "code",
   "execution_count": null,
   "id": "2974c79b",
   "metadata": {},
   "outputs": [],
   "source": [
    "generate_total_time_spent('lab04.csv')"
   ]
  },
  {
   "cell_type": "markdown",
   "id": "af594f85",
   "metadata": {},
   "source": [
    "# Lab 05"
   ]
  },
  {
   "cell_type": "code",
   "execution_count": null,
   "id": "4da46b1e",
   "metadata": {},
   "outputs": [],
   "source": [
    "generate_total_time_spent('lab05-sp22.csv')"
   ]
  },
  {
   "cell_type": "code",
   "execution_count": null,
   "id": "fa37b429",
   "metadata": {},
   "outputs": [],
   "source": [
    "generate_total_time_spent('lab05.csv')"
   ]
  },
  {
   "cell_type": "markdown",
   "id": "7084f7e2",
   "metadata": {},
   "source": [
    "# Lab 06"
   ]
  },
  {
   "cell_type": "code",
   "execution_count": null,
   "id": "53b03fa1",
   "metadata": {},
   "outputs": [],
   "source": [
    "generate_total_time_spent('lab06-sp22.csv')"
   ]
  },
  {
   "cell_type": "code",
   "execution_count": null,
   "id": "82d8b1c8",
   "metadata": {},
   "outputs": [],
   "source": [
    "generate_total_time_spent('lab06.csv')"
   ]
  },
  {
   "cell_type": "markdown",
   "id": "8ff4cf2f",
   "metadata": {},
   "source": [
    "# Lab 07"
   ]
  },
  {
   "cell_type": "code",
   "execution_count": null,
   "id": "3a008e18",
   "metadata": {},
   "outputs": [],
   "source": [
    "generate_total_time_spent('lab07-sp22.csv') # RERUN then remove this comment"
   ]
  },
  {
   "cell_type": "code",
   "execution_count": null,
   "id": "41638679",
   "metadata": {},
   "outputs": [],
   "source": [
    "generate_total_time_spent('lab07.csv')"
   ]
  },
  {
   "cell_type": "markdown",
   "id": "a9eb3961",
   "metadata": {},
   "source": [
    "# HW 01"
   ]
  },
  {
   "cell_type": "code",
   "execution_count": null,
   "id": "29c2c7b1",
   "metadata": {},
   "outputs": [],
   "source": [
    "generate_total_time_spent('hw01-sp22.csv')"
   ]
  },
  {
   "cell_type": "code",
   "execution_count": null,
   "id": "8a0d862f",
   "metadata": {},
   "outputs": [],
   "source": [
    "generate_total_time_spent('hw01.csv')"
   ]
  },
  {
   "cell_type": "markdown",
   "id": "488c87a6",
   "metadata": {},
   "source": [
    "# HW 02"
   ]
  },
  {
   "cell_type": "code",
   "execution_count": null,
   "id": "662769d6",
   "metadata": {},
   "outputs": [],
   "source": [
    "generate_total_time_spent('hw02-sp22.csv')"
   ]
  },
  {
   "cell_type": "code",
   "execution_count": null,
   "id": "e32b4392",
   "metadata": {},
   "outputs": [],
   "source": [
    "generate_total_time_spent('hw02.csv')"
   ]
  },
  {
   "cell_type": "markdown",
   "id": "0a5b6ebd",
   "metadata": {},
   "source": [
    "# HW 03"
   ]
  },
  {
   "cell_type": "code",
   "execution_count": null,
   "id": "dee3b071",
   "metadata": {},
   "outputs": [],
   "source": [
    "generate_total_time_spent('hw03-sp22.csv')"
   ]
  },
  {
   "cell_type": "code",
   "execution_count": null,
   "id": "25b2d9e6",
   "metadata": {},
   "outputs": [],
   "source": [
    "generate_total_time_spent('hw03.csv')"
   ]
  },
  {
   "cell_type": "markdown",
   "id": "edc08318",
   "metadata": {},
   "source": [
    "# HW 04"
   ]
  },
  {
   "cell_type": "code",
   "execution_count": null,
   "id": "41b5064c",
   "metadata": {},
   "outputs": [],
   "source": [
    "generate_total_time_spent('hw04-sp22.csv')"
   ]
  },
  {
   "cell_type": "code",
   "execution_count": null,
   "id": "cc91de16",
   "metadata": {},
   "outputs": [],
   "source": [
    "generate_total_time_spent('hw04.csv')"
   ]
  },
  {
   "cell_type": "markdown",
   "id": "ca9670b2",
   "metadata": {},
   "source": [
    "# Mann-Whitney test"
   ]
  },
  {
   "cell_type": "markdown",
   "id": "a69b512e",
   "metadata": {},
   "source": [
    "# question --> pingpong"
   ]
  },
  {
   "cell_type": "code",
   "execution_count": null,
   "id": "b8cf8595",
   "metadata": {
    "scrolled": true
   },
   "outputs": [],
   "source": [
    "%pip install scipy"
   ]
  },
  {
   "cell_type": "code",
   "execution_count": 19,
   "id": "df0bd2a3",
   "metadata": {
    "scrolled": false
   },
   "outputs": [],
   "source": [
    "from scipy.stats import mannwhitneyu"
   ]
  },
  {
   "cell_type": "code",
   "execution_count": 20,
   "id": "839dd68e",
   "metadata": {},
   "outputs": [],
   "source": [
    "def getAttemptsArray(name, questions, outlier_threshold=10, use_iqr=False):\n",
    "    load_assignment_df(name)\n",
    "    num_attempts_per_question = generate_num_attempts(assignment_dfs[name], questions)\n",
    "    summaries = {}\n",
    "    for q in questions:\n",
    "        temp = np.array(list(num_attempts_per_question[q].values()))\n",
    "    #     print(len(temp))\n",
    "        if use_iqr:\n",
    "            temp = reject_outliers_using_iqr(temp)\n",
    "        else:\n",
    "            temp = reject_outliers(temp, outlier_threshold)\n",
    "        temp_final = pd.DataFrame(list(temp))\n",
    "        summary = temp_final.describe()\n",
    "        summaries[q] = summary\n",
    "        \n",
    "    return temp"
   ]
  },
  {
   "cell_type": "code",
   "execution_count": null,
   "id": "fab334e1",
   "metadata": {},
   "outputs": [],
   "source": []
  },
  {
   "cell_type": "code",
   "execution_count": 25,
   "id": "edb89297",
   "metadata": {},
   "outputs": [
    {
     "data": {
      "text/plain": [
       "array([1, 5, 2, ..., 1, 0, 0])"
      ]
     },
     "execution_count": 25,
     "metadata": {},
     "output_type": "execute_result"
    }
   ],
   "source": [
    "sp21_group = getAttemptsArray('hw02.csv', ['summation_using_accumulate'])\n",
    "sp22_group = getAttemptsArray('hw02-sp22.csv', ['summation_using_accumulate'])\n",
    "\n",
    "sp22_group"
   ]
  },
  {
   "cell_type": "code",
   "execution_count": 26,
   "id": "a7aba66c",
   "metadata": {},
   "outputs": [],
   "source": [
    "U1, p = mannwhitneyu(sp21_group, sp22_group) "
   ]
  },
  {
   "cell_type": "code",
   "execution_count": 27,
   "id": "39942081",
   "metadata": {},
   "outputs": [
    {
     "name": "stdout",
     "output_type": "stream",
     "text": [
      "384066.0\n"
     ]
    }
   ],
   "source": [
    "print(U1)"
   ]
  },
  {
   "cell_type": "code",
   "execution_count": 28,
   "id": "9943a5bf",
   "metadata": {},
   "outputs": [
    {
     "name": "stdout",
     "output_type": "stream",
     "text": [
      "4.280727011032943e-28\n"
     ]
    }
   ],
   "source": [
    "print(p)"
   ]
  },
  {
   "cell_type": "code",
   "execution_count": null,
   "id": "309f0abf",
   "metadata": {},
   "outputs": [],
   "source": []
  }
 ],
 "metadata": {
  "kernelspec": {
   "display_name": "Python 3 (ipykernel)",
   "language": "python",
   "name": "python3"
  },
  "language_info": {
   "codemirror_mode": {
    "name": "ipython",
    "version": 3
   },
   "file_extension": ".py",
   "mimetype": "text/x-python",
   "name": "python",
   "nbconvert_exporter": "python",
   "pygments_lexer": "ipython3",
   "version": "3.10.1"
  }
 },
 "nbformat": 4,
 "nbformat_minor": 5
}
