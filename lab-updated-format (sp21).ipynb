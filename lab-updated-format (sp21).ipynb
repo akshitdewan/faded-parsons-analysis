{
 "cells": [
  {
   "cell_type": "code",
   "execution_count": 78,
   "id": "5d60cacd",
   "metadata": {},
   "outputs": [],
   "source": [
    "import pandas as pd\n",
    "import matplotlib.pyplot as plt\n",
    "import numpy as np\n",
    "from dateutil import parser\n",
    "from datetime import datetime\n",
    "import json\n"
   ]
  },
  {
   "cell_type": "code",
   "execution_count": 79,
   "id": "135f56a3",
   "metadata": {},
   "outputs": [
    {
     "data": {
      "text/html": [
       "<div>\n",
       "<style scoped>\n",
       "    .dataframe tbody tr th:only-of-type {\n",
       "        vertical-align: middle;\n",
       "    }\n",
       "\n",
       "    .dataframe tbody tr th {\n",
       "        vertical-align: top;\n",
       "    }\n",
       "\n",
       "    .dataframe thead th {\n",
       "        text-align: right;\n",
       "    }\n",
       "</style>\n",
       "<table border=\"1\" class=\"dataframe\">\n",
       "  <thead>\n",
       "    <tr style=\"text-align: right;\">\n",
       "      <th></th>\n",
       "      <th>Unnamed: 0</th>\n",
       "      <th>id_email</th>\n",
       "      <th>ranking</th>\n",
       "      <th>languages</th>\n",
       "      <th>prior courses</th>\n",
       "      <th>age</th>\n",
       "      <th>level</th>\n",
       "    </tr>\n",
       "  </thead>\n",
       "  <tbody>\n",
       "    <tr>\n",
       "      <th>17</th>\n",
       "      <td>17</td>\n",
       "      <td>56539.0</td>\n",
       "      <td>5</td>\n",
       "      <td>Python, Java, C/C++, Swift</td>\n",
       "      <td>AP Computer Science A, Other High School progr...</td>\n",
       "      <td>12 years old or younger</td>\n",
       "      <td>advanced</td>\n",
       "    </tr>\n",
       "    <tr>\n",
       "      <th>18</th>\n",
       "      <td>18</td>\n",
       "      <td>55891.0</td>\n",
       "      <td>4</td>\n",
       "      <td>Python, JavaScript, Scratch/SNAP</td>\n",
       "      <td>AP Computer Science Principles</td>\n",
       "      <td>12 years old or younger</td>\n",
       "      <td>advanced</td>\n",
       "    </tr>\n",
       "    <tr>\n",
       "      <th>94</th>\n",
       "      <td>94</td>\n",
       "      <td>56322.0</td>\n",
       "      <td>3</td>\n",
       "      <td>Python, Java, Scratch/SNAP</td>\n",
       "      <td>NaN</td>\n",
       "      <td>12 years old or younger</td>\n",
       "      <td>advanced</td>\n",
       "    </tr>\n",
       "    <tr>\n",
       "      <th>154</th>\n",
       "      <td>154</td>\n",
       "      <td>56609.0</td>\n",
       "      <td>4</td>\n",
       "      <td>Python, Java</td>\n",
       "      <td>AP Computer Science Principles</td>\n",
       "      <td>12 years old or younger</td>\n",
       "      <td>advanced</td>\n",
       "    </tr>\n",
       "    <tr>\n",
       "      <th>196</th>\n",
       "      <td>196</td>\n",
       "      <td>56522.0</td>\n",
       "      <td>4</td>\n",
       "      <td>Python, Java, C/C++, JavaScript</td>\n",
       "      <td>AP Computer Science A</td>\n",
       "      <td>12 years old or younger</td>\n",
       "      <td>advanced</td>\n",
       "    </tr>\n",
       "  </tbody>\n",
       "</table>\n",
       "</div>"
      ],
      "text/plain": [
       "     Unnamed: 0  id_email  ranking                         languages  \\\n",
       "17           17   56539.0        5        Python, Java, C/C++, Swift   \n",
       "18           18   55891.0        4  Python, JavaScript, Scratch/SNAP   \n",
       "94           94   56322.0        3        Python, Java, Scratch/SNAP   \n",
       "154         154   56609.0        4                      Python, Java   \n",
       "196         196   56522.0        4   Python, Java, C/C++, JavaScript   \n",
       "\n",
       "                                         prior courses  \\\n",
       "17   AP Computer Science A, Other High School progr...   \n",
       "18                      AP Computer Science Principles   \n",
       "94                                                 NaN   \n",
       "154                     AP Computer Science Principles   \n",
       "196                              AP Computer Science A   \n",
       "\n",
       "                         age     level  \n",
       "17   12 years old or younger  advanced  \n",
       "18   12 years old or younger  advanced  \n",
       "94   12 years old or younger  advanced  \n",
       "154  12 years old or younger  advanced  \n",
       "196  12 years old or younger  advanced  "
      ]
     },
     "execution_count": 79,
     "metadata": {},
     "output_type": "execute_result"
    }
   ],
   "source": [
    "levels = pd.read_csv('sp21-levels.csv')\n",
    "levels.head()\n",
    "\n",
    "advanced = levels[levels['level'] == 'advanced']\n",
    "intermediate = levels[levels['level'] == 'intermediate']\n",
    "beginner = levels[levels['level'] == 'beginner']\n",
    "\n",
    "advanced.head()"
   ]
  },
  {
   "cell_type": "code",
   "execution_count": 80,
   "id": "42b9d028",
   "metadata": {},
   "outputs": [],
   "source": [
    "def get_assignment_df_level(level, temp1):\n",
    "    temp = None\n",
    "    if level == 'advanced':\n",
    "        advanced_ids = list(advanced['id_email'])\n",
    "        \n",
    "        temp = temp1[[sid in advanced_ids for sid in temp1['student_id']]]\n",
    "    \n",
    "    elif level == 'intermediate':\n",
    "        intermediate_ids = list(intermediate['id_email'])\n",
    "        \n",
    "        temp = temp1[[sid in intermediate_ids for sid in temp1['student_id']]]\n",
    "    \n",
    "    else:\n",
    "        beginner_ids = list(beginner['id_email'])\n",
    "        \n",
    "        temp = temp1[[sid in beginner_ids for sid in temp1['student_id']]]\n",
    "    \n",
    "    return temp\n",
    "    "
   ]
  },
  {
   "cell_type": "code",
   "execution_count": 85,
   "id": "04c1ca83",
   "metadata": {},
   "outputs": [
    {
     "data": {
      "text/plain": [
       "594"
      ]
     },
     "execution_count": 85,
     "metadata": {},
     "output_type": "execute_result"
    }
   ],
   "source": [
    "name = 'lab02-sp21.csv' # edit this\n",
    "sp22 = 'sp22' in name\n",
    "columns = ['assignment_id','assignment', 'backup_id', 'timestamp', 'student_id', 'is_submission', 'message_type', 'data']\n",
    "if sp22:\n",
    "    columns = ['assignment_id','assignment', 'backup_id', 'timestamp', 'student_id', 'is_submission', 'message_type', 'data']\n",
    "\n",
    "assignment_df = pd.read_csv(name, usecols=[i for i in range(len(columns))]) # 2 is data\n",
    "assignment_df.columns = columns\n",
    "assignment_df = get_assignment_df_level(\"beginner\", assignment_df)\n",
    "\n",
    "assignment_df.head()\n",
    "\n",
    "len(np.unique(assignment_df['student_id']))"
   ]
  },
  {
   "cell_type": "code",
   "execution_count": 86,
   "id": "336466a1",
   "metadata": {},
   "outputs": [],
   "source": [
    "def reject_outliers(data, m = 10.):\n",
    "    print(len(data))\n",
    "    d = np.abs(data - np.median(data))\n",
    "    print(d)\n",
    "    mdev = np.median(d)\n",
    "    print(mdev)\n",
    "    s = d/mdev if mdev else 0.\n",
    "    return data[s<m]\n",
    "\n",
    "def generate_num_attempts(name, questions, q):\n",
    "    assignments = assignment_df.assignment.unique()\n",
    "    assignment_now = 'cal/cs61a/sp21/lab02' # edit this \n",
    "    students = assignment_df.student_id.unique()\n",
    "    \n",
    "    is_assignment = assignment_df.assignment_id == assignment_now\n",
    "    assignment_data = assignment_df[is_assignment]\n",
    "    assignment_students = assignment_data.student_id.unique()\n",
    "    \n",
    "    name = 'lab02-sp21.csv'\n",
    "    sp22 = 'sp22' in name\n",
    "\n",
    "    columns = ['assignment_id','assignment', 'backup_id', 'timestamp', 'student_id', 'is_submission', 'message_type', 'data']\n",
    "    if sp22:\n",
    "        columns = ['assignment_id','assignment', 'backup_id', 'timestamp', 'student_id', 'is_submission', 'message_type', 'data']\n",
    "\n",
    "    \n",
    "    grading_students = assignment_df[assignment_df.message_type == 'grading'].student_id.unique()\n",
    "    no_grading_students = [student for student in assignment_students if student not in grading_students]\n",
    "    \n",
    "    # compute number of attempts per question / edit questions here\n",
    "\n",
    "    student = 21969\n",
    "    num_attempts_per_question = {question: {student: 0 for student in grading_students} for question in questions}\n",
    "    for student in grading_students:\n",
    "        for row in assignment_df[(assignment_df.student_id == student) & (assignment_df.message_type == 'grading')].itertuples():\n",
    "        \n",
    "            data = json.loads(row.data)\n",
    "            if len(list(data)) != 1:\n",
    "                continue\n",
    "            question = list(data)[0]\n",
    "            if question in num_attempts_per_question:\n",
    "                num_attempts_per_question[question][student] += 1\n",
    "    \n",
    "#     for q in questions:\n",
    "#         temp = np.array(list(num_attempts_per_question[q].values()))\n",
    "#         plt.figure()\n",
    "#         print(q + \" Number of Attempts Summary Statistics\")\n",
    "#         plt.hist(list(temp))\n",
    "#         plt.show()\n",
    "#         print(pd.DataFrame(temp).describe())\n",
    "    temp = np.array(list(num_attempts_per_question[q].values()))\n",
    "    temp = reject_outliers(temp)\n",
    "    plt.figure()\n",
    "    print(q + \" Number of Attempts Summary Statistics\")\n",
    "    plt.hist(list(temp))\n",
    "    plt.show()\n",
    "    temp_final = pd.DataFrame(temp)\n",
    "    \n",
    "    print(temp_final.describe())\n",
    "    \n",
    "    return temp_final\n",
    "    "
   ]
  },
  {
   "cell_type": "code",
   "execution_count": 88,
   "id": "671dcbdc",
   "metadata": {
    "scrolled": false
   },
   "outputs": [
    {
     "name": "stdout",
     "output_type": "stream",
     "text": [
      "585\n",
      "[ 1.  2.  1.  1.  1.  3.  2.  6.  1.  2.  2.  2.  1. 15.  3.  1.  2. 36.\n",
      "  3.  4.  3.  3.  1.  3.  3.  1.  3.  1.  4.  3.  6.  1.  0.  4.  2.  3.\n",
      "  7.  1.  2.  2.  3. 16.  3.  2.  2. 13.  2.  3. 15.  1.  1.  3.  7.  2.\n",
      " 22.  2.  2.  1.  8.  8.  3.  1.  2.  8.  2.  1.  4.  3.  2. 25.  3.  3.\n",
      " 25.  9.  2.  1.  0.  1.  3.  3.  0.  3.  2.  3.  2.  1.  1. 30.  2.  2.\n",
      "  2.  2.  6.  4. 22.  1.  1.  2.  3.  5. 15.  0.  3.  2.  3.  8.  3.  0.\n",
      "  3.  2.  0.  1. 14.  4. 41.  3.  2. 35.  5.  5. 11. 13.  1.  9.  1.  4.\n",
      "  3.  1.  3.  4. 12. 13.  3.  1. 13.  3.  1.  8. 10. 28.  3. 10.  1.  2.\n",
      "  1.  5.  1.  2.  5.  1.  5.  2. 19.  0. 12.  7.  6.  3.  5.  2.  4.  8.\n",
      "  2.  6.  2.  2.  3.  5.  2.  5.  3.  8.  3.  4. 23.  2.  3.  2. 50.  3.\n",
      " 28.  2.  3.  1.  1.  2.  2.  3. 21.  3. 10.  0.  2.  4.  4. 16.  2.  6.\n",
      "  6.  1.  3.  4.  2.  6.  0. 37. 29.  1. 48.  0.  2.  2.  3. 44.  3.  1.\n",
      "  5.  8.  2.  0. 11.  2.  1.  0.  4. 10.  3. 16.  7.  3.  1.  8. 25.  3.\n",
      "  3.  5. 22.  3.  0.  4. 28.  4.  3.  8.  4.  4.  4.  4.  4.  3.  5.  2.\n",
      "  0.  0.  0.  5.  2.  4.  1.  4. 20.  1.  1.  6.  0. 30.  2.  5.  5. 13.\n",
      "  0.  1.  3. 76.  1.  6.  2.  3.  1.  4.  9.  3.  3.  1.  3.  1.  1. 14.\n",
      " 31.  1.  3.  8.  1.  0.  1.  2.  3.  4.  3. 49.  4.  2.  1.  1.  9.  1.\n",
      "  2.  1.  2.  3. 25.  1.  1.  5. 10.  3. 16. 23.  1.  2.  0.  0.  2.  2.\n",
      "  4. 17.  2.  2.  0.  3.  1.  7.  1. 53.  3.  1.  2.  9.  3.  1.  2.  2.\n",
      "  8.  0.  4.  2. 15.  2.  8.  0.  5.  1.  1.  3.  2.  0.  1.  1.  4.  1.\n",
      "  0.  1.  4.  3.  3.  1.  6.  2.  3.  1.  2.  3.  1.  1.  3.  2.  3. 21.\n",
      "  9.  4.  3.  6. 14.  6. 15.  4.  1.  4. 21.  3.  0.  1. 12.  8.  7.  3.\n",
      "  0. 40.  3.  5.  4.  1.  1.  0.  4.  7. 36.  3. 15.  3.  3.  0.  0.  3.\n",
      "  4.  3.  0.  4.  0.  1.  2. 15.  1. 10.  1.  8.  5.  4.  1.  5.  4.  2.\n",
      " 24.  1.  6. 20. 10.  0.  2.  2.  2. 18.  9.  3.  2.  2.  3.  5.  5.  3.\n",
      "  0.  1.  8.  3. 11.  2.  0.  1.  0.  4.  1.  2.  3.  0. 28.  1.  7.  4.\n",
      "  0.  2.  1.  3.  3.  3.  2.  8.  0.  4.  9.  8.  1. 15.  3.  2.  6. 23.\n",
      "  2.  4.  7.  1.  3.  4.  1.  3.  3. 11.  3.  2.  9.  1.  1.  0.  4.  6.\n",
      "  0.  2.  2.  2.  1.  0.  7. 13.  2. 18.  2.  3.  5.  1. 45.  0.  1.  2.\n",
      "  0.  2.  2.  5.  3.  1.  3.  3. 10.  2.  2.  3.  0.  2.  3.  0. 16. 20.\n",
      "  3.  1.  0.  3.  2.  1.  1.  4.  1.  1.  3.  9.  1.  5.  1.  1.  1.  2.\n",
      "  4. 23.  6.  1.  1.  0.  4.  3.  3.  1.  3.  2. 16.  3.  4.  4.  4.  2.\n",
      "  2.  2.  4.  4.  4.  4.  4.  2.  3.]\n",
      "3.0\n",
      "count_cond Number of Attempts Summary Statistics\n"
     ]
    },
    {
     "data": {
      "image/png": "[encoded data removed]",
      "text/plain": [
       "<Figure size 432x288 with 1 Axes>"
      ]
     },
     "metadata": {
      "needs_background": "light"
     },
     "output_type": "display_data"
    },
    {
     "name": "stdout",
     "output_type": "stream",
     "text": [
      "                0\n",
      "count  569.000000\n",
      "mean     6.128295\n",
      "std      6.580439\n",
      "min      0.000000\n",
      "25%      2.000000\n",
      "50%      4.000000\n",
      "75%      9.000000\n",
      "max     33.000000\n"
     ]
    },
    {
     "data": {
      "text/html": [
       "<div>\n",
       "<style scoped>\n",
       "    .dataframe tbody tr th:only-of-type {\n",
       "        vertical-align: middle;\n",
       "    }\n",
       "\n",
       "    .dataframe tbody tr th {\n",
       "        vertical-align: top;\n",
       "    }\n",
       "\n",
       "    .dataframe thead th {\n",
       "        text-align: right;\n",
       "    }\n",
       "</style>\n",
       "<table border=\"1\" class=\"dataframe\">\n",
       "  <thead>\n",
       "    <tr style=\"text-align: right;\">\n",
       "      <th></th>\n",
       "      <th>0</th>\n",
       "    </tr>\n",
       "  </thead>\n",
       "  <tbody>\n",
       "    <tr>\n",
       "      <th>0</th>\n",
       "      <td>3</td>\n",
       "    </tr>\n",
       "    <tr>\n",
       "      <th>1</th>\n",
       "      <td>6</td>\n",
       "    </tr>\n",
       "    <tr>\n",
       "      <th>2</th>\n",
       "      <td>3</td>\n",
       "    </tr>\n",
       "    <tr>\n",
       "      <th>3</th>\n",
       "      <td>3</td>\n",
       "    </tr>\n",
       "    <tr>\n",
       "      <th>4</th>\n",
       "      <td>3</td>\n",
       "    </tr>\n",
       "    <tr>\n",
       "      <th>...</th>\n",
       "      <td>...</td>\n",
       "    </tr>\n",
       "    <tr>\n",
       "      <th>564</th>\n",
       "      <td>0</td>\n",
       "    </tr>\n",
       "    <tr>\n",
       "      <th>565</th>\n",
       "      <td>0</td>\n",
       "    </tr>\n",
       "    <tr>\n",
       "      <th>566</th>\n",
       "      <td>0</td>\n",
       "    </tr>\n",
       "    <tr>\n",
       "      <th>567</th>\n",
       "      <td>6</td>\n",
       "    </tr>\n",
       "    <tr>\n",
       "      <th>568</th>\n",
       "      <td>1</td>\n",
       "    </tr>\n",
       "  </tbody>\n",
       "</table>\n",
       "<p>569 rows × 1 columns</p>\n",
       "</div>"
      ],
      "text/plain": [
       "     0\n",
       "0    3\n",
       "1    6\n",
       "2    3\n",
       "3    3\n",
       "4    3\n",
       "..  ..\n",
       "564  0\n",
       "565  0\n",
       "566  0\n",
       "567  6\n",
       "568  1\n",
       "\n",
       "[569 rows x 1 columns]"
      ]
     },
     "execution_count": 88,
     "metadata": {},
     "output_type": "execute_result"
    }
   ],
   "source": [
    "generate_num_attempts('lab02-sp21.csv', ['Lambda the Free', 'Higher Order Functions', 'hop', 'digit_index_factory', 'lambda_curry2', 'count_cond'], 'count_cond')"
   ]
  },
  {
   "cell_type": "code",
   "execution_count": 5,
   "id": "a09fe772",
   "metadata": {},
   "outputs": [],
   "source": [
    "def bucket_diffs(timestamps):\n",
    "    num_buckets = 0\n",
    "\n",
    "    if len(timestamps) <= 1:\n",
    "        return None\n",
    "    \n",
    "    result, timestamps = [], list(timestamps)\n",
    "    \n",
    "    initial_timestamp = parser.parse(timestamps[0])\n",
    "    \n",
    "    for i in range(len(timestamps) - 1):\n",
    "        current_timestamp = parser.parse(timestamps[i])\n",
    "        next_timestamp = parser.parse(timestamps[i + 1])\n",
    "        time_temp = (next_timestamp - current_timestamp).total_seconds() / 3600\n",
    "        \n",
    "        \n",
    "        if time_temp >= 1.2:\n",
    "            num_buckets += 1\n",
    "            temp_time_to_add = (current_timestamp - initial_timestamp).total_seconds() / 3600\n",
    "            \n",
    "            initial_timestamp = next_timestamp\n",
    "            result.append(temp_time_to_add)\n",
    "    \n",
    "    if parser.parse(timestamps[-1]) != initial_timestamp:\n",
    "        time_temp = (parser.parse(timestamps[-1]) - initial_timestamp).total_seconds() / 3600\n",
    "        result.append(time_temp)\n",
    "    \n",
    "    return result\n",
    "            "
   ]
  },
  {
   "cell_type": "code",
   "execution_count": 6,
   "id": "09348efe",
   "metadata": {},
   "outputs": [],
   "source": [
    "def generate_total_time_spent(name):\n",
    "    buckets_all_students = assignment_df.groupby('student_id')['timestamp'].agg(bucket_diffs)\n",
    "    \n",
    "    bucket_times = [sum(bucket_list) for bucket_list in list(buckets_all_students) if bucket_list != None]\n",
    "    \n",
    "    plt.hist(bucket_times)\n",
    "    \n",
    "    print(pd.DataFrame(bucket_times).describe())\n"
   ]
  },
  {
   "cell_type": "code",
   "execution_count": 7,
   "id": "e93a6b5c",
   "metadata": {},
   "outputs": [
    {
     "name": "stdout",
     "output_type": "stream",
     "text": [
      "                 0\n",
      "count  1068.000000\n",
      "mean      1.361692\n",
      "std       1.002457\n",
      "min       0.000000\n",
      "25%       0.647153\n",
      "50%       1.172917\n",
      "75%       1.827847\n",
      "max       9.301944\n"
     ]
    },
    {
     "data": {
      "image/png": "[encoded data removed]",
      "text/plain": [
       "<Figure size 432x288 with 1 Axes>"
      ]
     },
     "metadata": {
      "needs_background": "light"
     },
     "output_type": "display_data"
    }
   ],
   "source": [
    "generate_total_time_spent('lab02-sp21.csv')"
   ]
  },
  {
   "cell_type": "code",
   "execution_count": 9,
   "id": "52317e84",
   "metadata": {},
   "outputs": [
    {
     "name": "stdout",
     "output_type": "stream",
     "text": [
      "count_cond Number of Attempts Summary Statistics\n"
     ]
    },
    {
     "data": {
      "image/png": "[encoded data removed]",
      "text/plain": [
       "<Figure size 432x288 with 1 Axes>"
      ]
     },
     "metadata": {
      "needs_background": "light"
     },
     "output_type": "display_data"
    },
    {
     "name": "stdout",
     "output_type": "stream",
     "text": [
      "      0\n",
      "0     1\n",
      "1     1\n",
      "2     2\n",
      "3     1\n",
      "4     3\n",
      "...  ..\n",
      "1032  3\n",
      "1033  3\n",
      "1034  1\n",
      "1035  4\n",
      "1036  1\n",
      "\n",
      "[1037 rows x 1 columns]\n"
     ]
    }
   ],
   "source": [
    "# t test analysis \n",
    "sp_21 = generate_num_attempts('lab02-sp21.csv', ['Lambda the Free', 'Higher Order Functions', 'hop', 'digit_index_factory', 'lambda_curry2', 'count_cond'], 'count_cond')\n",
    "\n",
    "sp_22 = pd.read_pickle(\"./sp_22.pkl\")  "
   ]
  },
  {
   "cell_type": "code",
   "execution_count": 10,
   "id": "3b8a56af",
   "metadata": {},
   "outputs": [
    {
     "name": "stdout",
     "output_type": "stream",
     "text": [
      "      0\n",
      "0     0\n",
      "1     2\n",
      "2     0\n",
      "3     0\n",
      "4     0\n",
      "...  ..\n",
      "1040  1\n",
      "1041  3\n",
      "1042  5\n",
      "1043  0\n",
      "1044  1\n",
      "\n",
      "[1045 rows x 1 columns]\n"
     ]
    }
   ],
   "source": [
    "print(sp_22)"
   ]
  },
  {
   "cell_type": "code",
   "execution_count": 11,
   "id": "a69fe61f",
   "metadata": {},
   "outputs": [
    {
     "data": {
      "text/plain": [
       "8.863419803771498"
      ]
     },
     "execution_count": 11,
     "metadata": {},
     "output_type": "execute_result"
    }
   ],
   "source": [
    "np.std(sp_22[0])"
   ]
  },
  {
   "cell_type": "code",
   "execution_count": 12,
   "id": "f5535558",
   "metadata": {},
   "outputs": [
    {
     "data": {
      "text/plain": [
       "0.0322330743665409"
      ]
     },
     "execution_count": 12,
     "metadata": {},
     "output_type": "execute_result"
    }
   ],
   "source": [
    "x_1 = np.mean(sp_22[0])\n",
    "x_2 = np.mean(sp_21[0])\n",
    "\n",
    "n_1 = len(sp_22[0])\n",
    "n_2 = len(sp_21[0])\n",
    "var_1 = np.var(sp_22[0]) \n",
    "var_2 = np.var(sp_21[0]) \n",
    "\n",
    "t_denom_1 = np.sqrt(((n_1 - 1) * var_1) + ((n_2 -1) * var_2))\n",
    "t_denom_2 = np.sqrt((n_2 + n_1) / (n_2 * n_1))\n",
    "\n",
    "t = (x_2 - x_1) / (t_denom_1 * t_denom_2)\n",
    "t"
   ]
  },
  {
   "cell_type": "code",
   "execution_count": null,
   "id": "79adbb54",
   "metadata": {},
   "outputs": [],
   "source": []
  },
  {
   "cell_type": "code",
   "execution_count": null,
   "id": "c1901c7d",
   "metadata": {},
   "outputs": [],
   "source": []
  },
  {
   "cell_type": "code",
   "execution_count": null,
   "id": "23f073ac",
   "metadata": {},
   "outputs": [],
   "source": []
  },
  {
   "cell_type": "code",
   "execution_count": null,
   "id": "48842537",
   "metadata": {},
   "outputs": [],
   "source": []
  }
 ],
 "metadata": {
  "kernelspec": {
   "display_name": "Python 3 (ipykernel)",
   "language": "python",
   "name": "python3"
  },
  "language_info": {
   "codemirror_mode": {
    "name": "ipython",
    "version": 3
   },
   "file_extension": ".py",
   "mimetype": "text/x-python",
   "name": "python",
   "nbconvert_exporter": "python",
   "pygments_lexer": "ipython3",
   "version": "3.10.1"
  }
 },
 "nbformat": 4,
 "nbformat_minor": 5
}
