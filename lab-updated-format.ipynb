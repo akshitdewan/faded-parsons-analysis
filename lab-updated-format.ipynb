{
 "cells": [
  {
   "cell_type": "code",
   "execution_count": 104,
   "id": "5d60cacd",
   "metadata": {},
   "outputs": [],
   "source": [
    "import pandas as pd\n",
    "import matplotlib.pyplot as plt\n",
    "import numpy as np\n",
    "from dateutil import parser\n",
    "from datetime import datetime\n",
    "import json"
   ]
  },
  {
   "cell_type": "code",
   "execution_count": 105,
   "id": "04c1ca83",
   "metadata": {},
   "outputs": [
    {
     "data": {
      "text/html": [
       "<div>\n",
       "<style scoped>\n",
       "    .dataframe tbody tr th:only-of-type {\n",
       "        vertical-align: middle;\n",
       "    }\n",
       "\n",
       "    .dataframe tbody tr th {\n",
       "        vertical-align: top;\n",
       "    }\n",
       "\n",
       "    .dataframe thead th {\n",
       "        text-align: right;\n",
       "    }\n",
       "</style>\n",
       "<table border=\"1\" class=\"dataframe\">\n",
       "  <thead>\n",
       "    <tr style=\"text-align: right;\">\n",
       "      <th></th>\n",
       "      <th>assignment_id</th>\n",
       "      <th>assignment</th>\n",
       "      <th>backup_id</th>\n",
       "      <th>timestamp</th>\n",
       "      <th>student_id</th>\n",
       "      <th>is_submission</th>\n",
       "      <th>message_type</th>\n",
       "      <th>data</th>\n",
       "    </tr>\n",
       "  </thead>\n",
       "  <tbody>\n",
       "    <tr>\n",
       "      <th>0</th>\n",
       "      <td>3602</td>\n",
       "      <td>cal/cs61a/sp21/lab02</td>\n",
       "      <td>27909202</td>\n",
       "      <td>2021-01-30 07:05:09</td>\n",
       "      <td>43919</td>\n",
       "      <td>0</td>\n",
       "      <td>file_contents</td>\n",
       "      <td>{\"lab02.py\": \"\\ndef lambda_curry2(func):\\n    ...</td>\n",
       "    </tr>\n",
       "    <tr>\n",
       "      <th>1</th>\n",
       "      <td>3602</td>\n",
       "      <td>cal/cs61a/sp21/lab02</td>\n",
       "      <td>27909202</td>\n",
       "      <td>2021-01-30 07:05:09</td>\n",
       "      <td>43919</td>\n",
       "      <td>0</td>\n",
       "      <td>unlock</td>\n",
       "      <td>[{\"answer timestamp\": 1611961124, \"prompt\": \"W...</td>\n",
       "    </tr>\n",
       "    <tr>\n",
       "      <th>2</th>\n",
       "      <td>3602</td>\n",
       "      <td>cal/cs61a/sp21/lab02</td>\n",
       "      <td>27909314</td>\n",
       "      <td>2021-01-30 07:15:33</td>\n",
       "      <td>43919</td>\n",
       "      <td>0</td>\n",
       "      <td>analytics</td>\n",
       "      <td>{\"requested-questions\": [\"hof-wwpd\"], \"questio...</td>\n",
       "    </tr>\n",
       "    <tr>\n",
       "      <th>3</th>\n",
       "      <td>3602</td>\n",
       "      <td>cal/cs61a/sp21/lab02</td>\n",
       "      <td>27909314</td>\n",
       "      <td>2021-01-30 07:15:33</td>\n",
       "      <td>43919</td>\n",
       "      <td>0</td>\n",
       "      <td>file_contents</td>\n",
       "      <td>{\"lab02.py\": \"\\ndef lambda_curry2(func):\\n    ...</td>\n",
       "    </tr>\n",
       "    <tr>\n",
       "      <th>4</th>\n",
       "      <td>3602</td>\n",
       "      <td>cal/cs61a/sp21/lab02</td>\n",
       "      <td>27909314</td>\n",
       "      <td>2021-01-30 07:15:33</td>\n",
       "      <td>43919</td>\n",
       "      <td>0</td>\n",
       "      <td>unlock</td>\n",
       "      <td>[{\"prompt\": \"&gt;&gt;&gt; def even(f):\\n...     def odd...</td>\n",
       "    </tr>\n",
       "  </tbody>\n",
       "</table>\n",
       "</div>"
      ],
      "text/plain": [
       "   assignment_id            assignment  backup_id            timestamp  \\\n",
       "0           3602  cal/cs61a/sp21/lab02   27909202  2021-01-30 07:05:09   \n",
       "1           3602  cal/cs61a/sp21/lab02   27909202  2021-01-30 07:05:09   \n",
       "2           3602  cal/cs61a/sp21/lab02   27909314  2021-01-30 07:15:33   \n",
       "3           3602  cal/cs61a/sp21/lab02   27909314  2021-01-30 07:15:33   \n",
       "4           3602  cal/cs61a/sp21/lab02   27909314  2021-01-30 07:15:33   \n",
       "\n",
       "   student_id  is_submission   message_type  \\\n",
       "0       43919              0  file_contents   \n",
       "1       43919              0         unlock   \n",
       "2       43919              0      analytics   \n",
       "3       43919              0  file_contents   \n",
       "4       43919              0         unlock   \n",
       "\n",
       "                                                data  \n",
       "0  {\"lab02.py\": \"\\ndef lambda_curry2(func):\\n    ...  \n",
       "1  [{\"answer timestamp\": 1611961124, \"prompt\": \"W...  \n",
       "2  {\"requested-questions\": [\"hof-wwpd\"], \"questio...  \n",
       "3  {\"lab02.py\": \"\\ndef lambda_curry2(func):\\n    ...  \n",
       "4  [{\"prompt\": \">>> def even(f):\\n...     def odd...  "
      ]
     },
     "execution_count": 105,
     "metadata": {},
     "output_type": "execute_result"
    }
   ],
   "source": [
    "name = 'lab02-sp21.csv' # edit this\n",
    "sp22 = 'sp22' in name\n",
    "columns = ['assignment_id','assignment', 'backup_id', 'timestamp', 'student_id', 'is_submission', 'message_type', 'data']\n",
    "if sp22:\n",
    "    columns = ['assignment_id','assignment', 'backup_id', 'timestamp', 'student_id', 'is_submission', 'message_type', 'data']\n",
    "\n",
    "assignment_df = pd.read_csv(name, usecols=[i for i in range(len(columns))]) # 2 is data\n",
    "assignment_df.columns = columns\n",
    "\n",
    "assignment_df.head()"
   ]
  },
  {
   "cell_type": "code",
   "execution_count": 110,
   "id": "336466a1",
   "metadata": {},
   "outputs": [],
   "source": [
    "def generate_num_attempts(name, questions):\n",
    "    assignments = df.assignment.unique()\n",
    "    assignment_now = 'cal/cs61a/sp21/lab02' # edit this \n",
    "    students = df.student_id.unique()\n",
    "    \n",
    "    is_assignment = df.assignment_id == assignment_now\n",
    "    assignment_data = df[is_assignment]\n",
    "    assignment_students = assignment_data.student_id.unique()\n",
    "    \n",
    "#     name = 'lab02-sp22.csv'\n",
    "    sp22 = 'sp22' in name\n",
    "\n",
    "    columns = ['assignment_id','assignment', 'backup_id', 'timestamp', 'student_id', 'is_submission', 'message_type', 'data']\n",
    "    if sp22:\n",
    "        columns = ['assignment_id','assignment', 'backup_id', 'timestamp', 'student_id', 'is_submission', 'message_type', 'data']\n",
    "\n",
    "    assignment_df = pd.read_csv(name, usecols=[i for i in range(len(columns))]) # 2 is data\n",
    "    assignment_df.columns = columns\n",
    "    \n",
    "    grading_students = assignment_df[assignment_df.message_type == 'grading'].student_id.unique()\n",
    "    no_grading_students = [student for student in assignment_students if student not in grading_students]\n",
    "    \n",
    "    # compute number of attempts per question / edit questions here\n",
    "\n",
    "    student = 21969\n",
    "    num_attempts_per_question = {question: {student: 0 for student in grading_students} for question in questions}\n",
    "    for student in grading_students:\n",
    "        for row in assignment_df[(assignment_df.student_id == student) & (assignment_df.message_type == 'grading')].itertuples():\n",
    "        \n",
    "            data = json.loads(row.data)\n",
    "            if len(list(data)) != 1:\n",
    "                continue\n",
    "            question = list(data)[0]\n",
    "            if question in num_attempts_per_question:\n",
    "                num_attempts_per_question[question][student] += 1\n",
    "    \n",
    "    for q in questions:\n",
    "        temp = np.array(list(num_attempts_per_question[q].values()))\n",
    "        plt.figure()\n",
    "        print(q + \" Number of Attempts Summary Statistics\")\n",
    "        plt.hist(list(temp))\n",
    "        plt.show()\n",
    "        print(pd.DataFrame(temp).describe())"
   ]
  },
  {
   "cell_type": "code",
   "execution_count": 111,
   "id": "671dcbdc",
   "metadata": {
    "scrolled": false
   },
   "outputs": [
    {
     "name": "stdout",
     "output_type": "stream",
     "text": [
      "Lambda the Free Number of Attempts Summary Statistics\n"
     ]
    },
    {
     "data": {
      "image/png": "[encoded data removed]",
      "text/plain": [
       "<Figure size 432x288 with 1 Axes>"
      ]
     },
     "metadata": {
      "needs_background": "light"
     },
     "output_type": "display_data"
    },
    {
     "name": "stdout",
     "output_type": "stream",
     "text": [
      "                 0\n",
      "count  1037.000000\n",
      "mean      0.075217\n",
      "std       0.435106\n",
      "min       0.000000\n",
      "25%       0.000000\n",
      "50%       0.000000\n",
      "75%       0.000000\n",
      "max       8.000000\n",
      "Higher Order Functions Number of Attempts Summary Statistics\n"
     ]
    },
    {
     "data": {
      "image/png": "[encoded data removed]",
      "text/plain": [
       "<Figure size 432x288 with 1 Axes>"
      ]
     },
     "metadata": {
      "needs_background": "light"
     },
     "output_type": "display_data"
    },
    {
     "name": "stdout",
     "output_type": "stream",
     "text": [
      "                 0\n",
      "count  1037.000000\n",
      "mean      0.005786\n",
      "std       0.087684\n",
      "min       0.000000\n",
      "25%       0.000000\n",
      "50%       0.000000\n",
      "75%       0.000000\n",
      "max       2.000000\n",
      "hop Number of Attempts Summary Statistics\n"
     ]
    },
    {
     "data": {
      "image/png": "[encoded data removed]",
      "text/plain": [
       "<Figure size 432x288 with 1 Axes>"
      ]
     },
     "metadata": {
      "needs_background": "light"
     },
     "output_type": "display_data"
    },
    {
     "name": "stdout",
     "output_type": "stream",
     "text": [
      "            0\n",
      "count  1037.0\n",
      "mean      0.0\n",
      "std       0.0\n",
      "min       0.0\n",
      "25%       0.0\n",
      "50%       0.0\n",
      "75%       0.0\n",
      "max       0.0\n",
      "digit_index_factory Number of Attempts Summary Statistics\n"
     ]
    },
    {
     "data": {
      "image/png": "[encoded data removed]",
      "text/plain": [
       "<Figure size 432x288 with 1 Axes>"
      ]
     },
     "metadata": {
      "needs_background": "light"
     },
     "output_type": "display_data"
    },
    {
     "name": "stdout",
     "output_type": "stream",
     "text": [
      "            0\n",
      "count  1037.0\n",
      "mean      0.0\n",
      "std       0.0\n",
      "min       0.0\n",
      "25%       0.0\n",
      "50%       0.0\n",
      "75%       0.0\n",
      "max       0.0\n",
      "lambda_curry2 Number of Attempts Summary Statistics\n"
     ]
    },
    {
     "data": {
      "image/png": "[encoded data removed]",
      "text/plain": [
       "<Figure size 432x288 with 1 Axes>"
      ]
     },
     "metadata": {
      "needs_background": "light"
     },
     "output_type": "display_data"
    },
    {
     "name": "stdout",
     "output_type": "stream",
     "text": [
      "                 0\n",
      "count  1037.000000\n",
      "mean      4.109932\n",
      "std       5.029591\n",
      "min       0.000000\n",
      "25%       1.000000\n",
      "50%       2.000000\n",
      "75%       5.000000\n",
      "max      38.000000\n",
      "count_cond Number of Attempts Summary Statistics\n"
     ]
    },
    {
     "data": {
      "image/png": "[encoded data removed]",
      "text/plain": [
       "<Figure size 432x288 with 1 Axes>"
      ]
     },
     "metadata": {
      "needs_background": "light"
     },
     "output_type": "display_data"
    },
    {
     "name": "stdout",
     "output_type": "stream",
     "text": [
      "                 0\n",
      "count  1037.000000\n",
      "mean      6.648987\n",
      "std       8.638617\n",
      "min       0.000000\n",
      "25%       2.000000\n",
      "50%       4.000000\n",
      "75%       8.000000\n",
      "max      80.000000\n"
     ]
    }
   ],
   "source": [
    "generate_num_attempts('lab02-sp21.csv', ['Lambda the Free', 'Higher Order Functions', 'hop', 'digit_index_factory', 'lambda_curry2', 'count_cond'])"
   ]
  },
  {
   "cell_type": "code",
   "execution_count": 112,
   "id": "a09fe772",
   "metadata": {},
   "outputs": [],
   "source": [
    "def bucket_diffs(timestamps):\n",
    "    num_buckets = 0\n",
    "\n",
    "    if len(timestamps) <= 1:\n",
    "        return None\n",
    "    \n",
    "    result, timestamps = [], list(timestamps)\n",
    "    \n",
    "    initial_timestamp = parser.parse(timestamps[0])\n",
    "    \n",
    "    for i in range(len(timestamps) - 1):\n",
    "        current_timestamp = parser.parse(timestamps[i])\n",
    "        next_timestamp = parser.parse(timestamps[i + 1])\n",
    "        time_temp = (next_timestamp - current_timestamp).total_seconds() / 3600\n",
    "        \n",
    "        \n",
    "        if time_temp >= 1.2:\n",
    "            num_buckets += 1\n",
    "            temp_time_to_add = (current_timestamp - initial_timestamp).total_seconds() / 3600\n",
    "            \n",
    "            initial_timestamp = next_timestamp\n",
    "            result.append(temp_time_to_add)\n",
    "    \n",
    "    if parser.parse(timestamps[-1]) != initial_timestamp:\n",
    "        time_temp = (parser.parse(timestamps[-1]) - initial_timestamp).total_seconds() / 3600\n",
    "        result.append(time_temp)\n",
    "    \n",
    "    return result\n",
    "            "
   ]
  },
  {
   "cell_type": "code",
   "execution_count": 113,
   "id": "09348efe",
   "metadata": {},
   "outputs": [],
   "source": [
    "def generate_total_time_spent(name):\n",
    "    buckets_all_students = assignment_df.groupby('student_id')['timestamp'].agg(bucket_diffs)\n",
    "    \n",
    "    bucket_times = [sum(bucket_list) for bucket_list in list(buckets_all_students) if bucket_list != None]\n",
    "    \n",
    "    plt.hist(bucket_times)\n",
    "    \n",
    "    print(pd.DataFrame(bucket_times).describe())\n"
   ]
  },
  {
   "cell_type": "code",
   "execution_count": 114,
   "id": "e93a6b5c",
   "metadata": {},
   "outputs": [
    {
     "name": "stdout",
     "output_type": "stream",
     "text": [
      "                 0\n",
      "count  1068.000000\n",
      "mean      1.361692\n",
      "std       1.002457\n",
      "min       0.000000\n",
      "25%       0.647153\n",
      "50%       1.172917\n",
      "75%       1.827847\n",
      "max       9.301944\n"
     ]
    },
    {
     "data": {
      "image/png": "[encoded data removed]",
      "text/plain": [
       "<Figure size 432x288 with 1 Axes>"
      ]
     },
     "metadata": {
      "needs_background": "light"
     },
     "output_type": "display_data"
    }
   ],
   "source": [
    "generate_total_time_spent('lab02-sp21.csv')"
   ]
  },
  {
   "cell_type": "code",
   "execution_count": null,
   "id": "52317e84",
   "metadata": {},
   "outputs": [],
   "source": []
  },
  {
   "cell_type": "code",
   "execution_count": null,
   "id": "3b8a56af",
   "metadata": {},
   "outputs": [],
   "source": []
  }
 ],
 "metadata": {
  "kernelspec": {
   "display_name": "Python 3 (ipykernel)",
   "language": "python",
   "name": "python3"
  },
  "language_info": {
   "codemirror_mode": {
    "name": "ipython",
    "version": 3
   },
   "file_extension": ".py",
   "mimetype": "text/x-python",
   "name": "python",
   "nbconvert_exporter": "python",
   "pygments_lexer": "ipython3",
   "version": "3.10.1"
  }
 },
 "nbformat": 4,
 "nbformat_minor": 5
}
