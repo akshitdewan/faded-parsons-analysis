{
 "cells": [
  {
   "cell_type": "code",
   "execution_count": 193,
   "id": "f0a35df9",
   "metadata": {},
   "outputs": [],
   "source": [
    "import pandas as pd\n",
    "import matplotlib.pyplot as plt\n",
    "import numpy as np\n",
    "from dateutil import parser\n",
    "from datetime import datetime\n",
    "import json"
   ]
  },
  {
   "cell_type": "code",
   "execution_count": 194,
   "id": "e842b2a0",
   "metadata": {},
   "outputs": [],
   "source": [
    "welcome_survey = pd.read_csv('cs61a-welcome-survey-sp21.csv')"
   ]
  },
  {
   "cell_type": "code",
   "execution_count": 195,
   "id": "43a227f4",
   "metadata": {},
   "outputs": [],
   "source": [
    "# rename to shorter column names\n",
    "\n",
    "welcome_survey = welcome_survey.rename(columns={'On a scale from 1 to 5, how do you estimate your programming experience?':'ranking', \n",
    "                                                'What languages have you programmed in?': 'languages',\n",
    "                                                'If you had prior programming experience, did you take any of the following courses?':'prior courses',\n",
    "                                                'When did you start programming? If you\\'re not sure, your best guess is fine.': 'age' \n",
    "                                               })"
   ]
  },
  {
   "cell_type": "code",
   "execution_count": 196,
   "id": "813e7acb",
   "metadata": {},
   "outputs": [],
   "source": [
    "def level_filter(s):\n",
    "    if type(s) is str and s != 'I have not programmed before':\n",
    "        advanced_ages = np.arange(1, 13)\n",
    "        intermediate_ages = np.arange(13, 17)\n",
    "    \n",
    "        \n",
    "        age = int(s[:2])\n",
    "        \n",
    "        \n",
    "        if age in advanced_ages:\n",
    "            return \"advanced\"\n",
    "        elif age in intermediate_ages:\n",
    "            return \"intermediate\"\n",
    "        else:\n",
    "            return \"beginner\"\n",
    "    else:\n",
    "        return \"beginner\"\n",
    "        \n",
    "    "
   ]
  },
  {
   "cell_type": "code",
   "execution_count": 197,
   "id": "3a56ef85",
   "metadata": {},
   "outputs": [
    {
     "data": {
      "text/html": [
       "<div>\n",
       "<style scoped>\n",
       "    .dataframe tbody tr th:only-of-type {\n",
       "        vertical-align: middle;\n",
       "    }\n",
       "\n",
       "    .dataframe tbody tr th {\n",
       "        vertical-align: top;\n",
       "    }\n",
       "\n",
       "    .dataframe thead th {\n",
       "        text-align: right;\n",
       "    }\n",
       "</style>\n",
       "<table border=\"1\" class=\"dataframe\">\n",
       "  <thead>\n",
       "    <tr style=\"text-align: right;\">\n",
       "      <th></th>\n",
       "      <th>id_email</th>\n",
       "      <th>ranking</th>\n",
       "      <th>languages</th>\n",
       "      <th>prior courses</th>\n",
       "      <th>age</th>\n",
       "    </tr>\n",
       "  </thead>\n",
       "  <tbody>\n",
       "    <tr>\n",
       "      <th>0</th>\n",
       "      <td>56494.0</td>\n",
       "      <td>1</td>\n",
       "      <td>No languages yet!</td>\n",
       "      <td>NaN</td>\n",
       "      <td>15 - 16 years old</td>\n",
       "    </tr>\n",
       "    <tr>\n",
       "      <th>1</th>\n",
       "      <td>36187.0</td>\n",
       "      <td>2</td>\n",
       "      <td>Python, Scratch/SNAP, R</td>\n",
       "      <td>Other High School programming course, Data 8</td>\n",
       "      <td>17 - 18 years old</td>\n",
       "    </tr>\n",
       "    <tr>\n",
       "      <th>2</th>\n",
       "      <td>50896.0</td>\n",
       "      <td>2</td>\n",
       "      <td>Python</td>\n",
       "      <td>NaN</td>\n",
       "      <td>17 - 18 years old</td>\n",
       "    </tr>\n",
       "    <tr>\n",
       "      <th>3</th>\n",
       "      <td>51691.0</td>\n",
       "      <td>2</td>\n",
       "      <td>Python, Java, Scratch/SNAP</td>\n",
       "      <td>AP Computer Science A, CS 10</td>\n",
       "      <td>NaN</td>\n",
       "    </tr>\n",
       "    <tr>\n",
       "      <th>4</th>\n",
       "      <td>56346.0</td>\n",
       "      <td>3</td>\n",
       "      <td>Python, Java</td>\n",
       "      <td>AP Computer Science A, Other High School progr...</td>\n",
       "      <td>15 - 16 years old</td>\n",
       "    </tr>\n",
       "  </tbody>\n",
       "</table>\n",
       "</div>"
      ],
      "text/plain": [
       "   id_email  ranking                   languages  \\\n",
       "0   56494.0        1           No languages yet!   \n",
       "1   36187.0        2     Python, Scratch/SNAP, R   \n",
       "2   50896.0        2                      Python   \n",
       "3   51691.0        2  Python, Java, Scratch/SNAP   \n",
       "4   56346.0        3                Python, Java   \n",
       "\n",
       "                                       prior courses                age  \n",
       "0                                                NaN  15 - 16 years old  \n",
       "1       Other High School programming course, Data 8  17 - 18 years old  \n",
       "2                                                NaN  17 - 18 years old  \n",
       "3                       AP Computer Science A, CS 10                NaN  \n",
       "4  AP Computer Science A, Other High School progr...  15 - 16 years old  "
      ]
     },
     "execution_count": 197,
     "metadata": {},
     "output_type": "execute_result"
    }
   ],
   "source": [
    "welcome_survey.head()"
   ]
  },
  {
   "cell_type": "code",
   "execution_count": 198,
   "id": "fa2cf604",
   "metadata": {},
   "outputs": [
    {
     "data": {
      "text/html": [
       "<div>\n",
       "<style scoped>\n",
       "    .dataframe tbody tr th:only-of-type {\n",
       "        vertical-align: middle;\n",
       "    }\n",
       "\n",
       "    .dataframe tbody tr th {\n",
       "        vertical-align: top;\n",
       "    }\n",
       "\n",
       "    .dataframe thead th {\n",
       "        text-align: right;\n",
       "    }\n",
       "</style>\n",
       "<table border=\"1\" class=\"dataframe\">\n",
       "  <thead>\n",
       "    <tr style=\"text-align: right;\">\n",
       "      <th></th>\n",
       "      <th>id_email</th>\n",
       "      <th>ranking</th>\n",
       "      <th>languages</th>\n",
       "      <th>prior courses</th>\n",
       "      <th>age</th>\n",
       "      <th>level</th>\n",
       "    </tr>\n",
       "  </thead>\n",
       "  <tbody>\n",
       "    <tr>\n",
       "      <th>0</th>\n",
       "      <td>56494.0</td>\n",
       "      <td>1</td>\n",
       "      <td>No languages yet!</td>\n",
       "      <td>NaN</td>\n",
       "      <td>15 - 16 years old</td>\n",
       "      <td>intermediate</td>\n",
       "    </tr>\n",
       "    <tr>\n",
       "      <th>1</th>\n",
       "      <td>36187.0</td>\n",
       "      <td>2</td>\n",
       "      <td>Python, Scratch/SNAP, R</td>\n",
       "      <td>Other High School programming course, Data 8</td>\n",
       "      <td>17 - 18 years old</td>\n",
       "      <td>beginner</td>\n",
       "    </tr>\n",
       "    <tr>\n",
       "      <th>2</th>\n",
       "      <td>50896.0</td>\n",
       "      <td>2</td>\n",
       "      <td>Python</td>\n",
       "      <td>NaN</td>\n",
       "      <td>17 - 18 years old</td>\n",
       "      <td>beginner</td>\n",
       "    </tr>\n",
       "    <tr>\n",
       "      <th>3</th>\n",
       "      <td>51691.0</td>\n",
       "      <td>2</td>\n",
       "      <td>Python, Java, Scratch/SNAP</td>\n",
       "      <td>AP Computer Science A, CS 10</td>\n",
       "      <td>NaN</td>\n",
       "      <td>beginner</td>\n",
       "    </tr>\n",
       "    <tr>\n",
       "      <th>4</th>\n",
       "      <td>56346.0</td>\n",
       "      <td>3</td>\n",
       "      <td>Python, Java</td>\n",
       "      <td>AP Computer Science A, Other High School progr...</td>\n",
       "      <td>15 - 16 years old</td>\n",
       "      <td>intermediate</td>\n",
       "    </tr>\n",
       "  </tbody>\n",
       "</table>\n",
       "</div>"
      ],
      "text/plain": [
       "   id_email  ranking                   languages  \\\n",
       "0   56494.0        1           No languages yet!   \n",
       "1   36187.0        2     Python, Scratch/SNAP, R   \n",
       "2   50896.0        2                      Python   \n",
       "3   51691.0        2  Python, Java, Scratch/SNAP   \n",
       "4   56346.0        3                Python, Java   \n",
       "\n",
       "                                       prior courses                age  \\\n",
       "0                                                NaN  15 - 16 years old   \n",
       "1       Other High School programming course, Data 8  17 - 18 years old   \n",
       "2                                                NaN  17 - 18 years old   \n",
       "3                       AP Computer Science A, CS 10                NaN   \n",
       "4  AP Computer Science A, Other High School progr...  15 - 16 years old   \n",
       "\n",
       "          level  \n",
       "0  intermediate  \n",
       "1      beginner  \n",
       "2      beginner  \n",
       "3      beginner  \n",
       "4  intermediate  "
      ]
     },
     "execution_count": 198,
     "metadata": {},
     "output_type": "execute_result"
    }
   ],
   "source": [
    "welcome_survey['level'] = welcome_survey['age'].map(level_filter)\n",
    "welcome_survey.head()"
   ]
  },
  {
   "cell_type": "code",
   "execution_count": 199,
   "id": "09ac280c",
   "metadata": {},
   "outputs": [
    {
     "ename": "KeyError",
     "evalue": "\"['okpy_id'] not in index\"",
     "output_type": "error",
     "traceback": [
      "\u001b[0;31m---------------------------------------------------------------------------\u001b[0m",
      "\u001b[0;31mKeyError\u001b[0m                                  Traceback (most recent call last)",
      "\u001b[0;32m/var/folders/77/prcyd5395_z7xqph_908xv4h0000gn/T/ipykernel_13384/1080520231.py\u001b[0m in \u001b[0;36m<module>\u001b[0;34m\u001b[0m\n\u001b[0;32m----> 1\u001b[0;31m \u001b[0mwelcome_survey\u001b[0m \u001b[0;34m=\u001b[0m \u001b[0mwelcome_survey\u001b[0m\u001b[0;34m[\u001b[0m\u001b[0;34m[\u001b[0m\u001b[0;34m'okpy_id'\u001b[0m\u001b[0;34m,\u001b[0m \u001b[0;34m'level'\u001b[0m\u001b[0;34m]\u001b[0m\u001b[0;34m]\u001b[0m\u001b[0;34m\u001b[0m\u001b[0;34m\u001b[0m\u001b[0m\n\u001b[0m\u001b[1;32m      2\u001b[0m \u001b[0mwelcome_survey\u001b[0m\u001b[0;34m.\u001b[0m\u001b[0mhead\u001b[0m\u001b[0;34m(\u001b[0m\u001b[0;34m)\u001b[0m\u001b[0;34m\u001b[0m\u001b[0;34m\u001b[0m\u001b[0m\n",
      "\u001b[0;32m/Library/Frameworks/Python.framework/Versions/3.10/lib/python3.10/site-packages/pandas/core/frame.py\u001b[0m in \u001b[0;36m__getitem__\u001b[0;34m(self, key)\u001b[0m\n\u001b[1;32m   3462\u001b[0m             \u001b[0;32mif\u001b[0m \u001b[0mis_iterator\u001b[0m\u001b[0;34m(\u001b[0m\u001b[0mkey\u001b[0m\u001b[0;34m)\u001b[0m\u001b[0;34m:\u001b[0m\u001b[0;34m\u001b[0m\u001b[0;34m\u001b[0m\u001b[0m\n\u001b[1;32m   3463\u001b[0m                 \u001b[0mkey\u001b[0m \u001b[0;34m=\u001b[0m \u001b[0mlist\u001b[0m\u001b[0;34m(\u001b[0m\u001b[0mkey\u001b[0m\u001b[0;34m)\u001b[0m\u001b[0;34m\u001b[0m\u001b[0;34m\u001b[0m\u001b[0m\n\u001b[0;32m-> 3464\u001b[0;31m             \u001b[0mindexer\u001b[0m \u001b[0;34m=\u001b[0m \u001b[0mself\u001b[0m\u001b[0;34m.\u001b[0m\u001b[0mloc\u001b[0m\u001b[0;34m.\u001b[0m\u001b[0m_get_listlike_indexer\u001b[0m\u001b[0;34m(\u001b[0m\u001b[0mkey\u001b[0m\u001b[0;34m,\u001b[0m \u001b[0maxis\u001b[0m\u001b[0;34m=\u001b[0m\u001b[0;36m1\u001b[0m\u001b[0;34m)\u001b[0m\u001b[0;34m[\u001b[0m\u001b[0;36m1\u001b[0m\u001b[0;34m]\u001b[0m\u001b[0;34m\u001b[0m\u001b[0;34m\u001b[0m\u001b[0m\n\u001b[0m\u001b[1;32m   3465\u001b[0m \u001b[0;34m\u001b[0m\u001b[0m\n\u001b[1;32m   3466\u001b[0m         \u001b[0;31m# take() does not accept boolean indexers\u001b[0m\u001b[0;34m\u001b[0m\u001b[0;34m\u001b[0m\u001b[0m\n",
      "\u001b[0;32m/Library/Frameworks/Python.framework/Versions/3.10/lib/python3.10/site-packages/pandas/core/indexing.py\u001b[0m in \u001b[0;36m_get_listlike_indexer\u001b[0;34m(self, key, axis)\u001b[0m\n\u001b[1;32m   1312\u001b[0m             \u001b[0mkeyarr\u001b[0m\u001b[0;34m,\u001b[0m \u001b[0mindexer\u001b[0m\u001b[0;34m,\u001b[0m \u001b[0mnew_indexer\u001b[0m \u001b[0;34m=\u001b[0m \u001b[0max\u001b[0m\u001b[0;34m.\u001b[0m\u001b[0m_reindex_non_unique\u001b[0m\u001b[0;34m(\u001b[0m\u001b[0mkeyarr\u001b[0m\u001b[0;34m)\u001b[0m\u001b[0;34m\u001b[0m\u001b[0;34m\u001b[0m\u001b[0m\n\u001b[1;32m   1313\u001b[0m \u001b[0;34m\u001b[0m\u001b[0m\n\u001b[0;32m-> 1314\u001b[0;31m         \u001b[0mself\u001b[0m\u001b[0;34m.\u001b[0m\u001b[0m_validate_read_indexer\u001b[0m\u001b[0;34m(\u001b[0m\u001b[0mkeyarr\u001b[0m\u001b[0;34m,\u001b[0m \u001b[0mindexer\u001b[0m\u001b[0;34m,\u001b[0m \u001b[0maxis\u001b[0m\u001b[0;34m)\u001b[0m\u001b[0;34m\u001b[0m\u001b[0;34m\u001b[0m\u001b[0m\n\u001b[0m\u001b[1;32m   1315\u001b[0m \u001b[0;34m\u001b[0m\u001b[0m\n\u001b[1;32m   1316\u001b[0m         if needs_i8_conversion(ax.dtype) or isinstance(\n",
      "\u001b[0;32m/Library/Frameworks/Python.framework/Versions/3.10/lib/python3.10/site-packages/pandas/core/indexing.py\u001b[0m in \u001b[0;36m_validate_read_indexer\u001b[0;34m(self, key, indexer, axis)\u001b[0m\n\u001b[1;32m   1375\u001b[0m \u001b[0;34m\u001b[0m\u001b[0m\n\u001b[1;32m   1376\u001b[0m             \u001b[0mnot_found\u001b[0m \u001b[0;34m=\u001b[0m \u001b[0mlist\u001b[0m\u001b[0;34m(\u001b[0m\u001b[0mensure_index\u001b[0m\u001b[0;34m(\u001b[0m\u001b[0mkey\u001b[0m\u001b[0;34m)\u001b[0m\u001b[0;34m[\u001b[0m\u001b[0mmissing_mask\u001b[0m\u001b[0;34m.\u001b[0m\u001b[0mnonzero\u001b[0m\u001b[0;34m(\u001b[0m\u001b[0;34m)\u001b[0m\u001b[0;34m[\u001b[0m\u001b[0;36m0\u001b[0m\u001b[0;34m]\u001b[0m\u001b[0;34m]\u001b[0m\u001b[0;34m.\u001b[0m\u001b[0munique\u001b[0m\u001b[0;34m(\u001b[0m\u001b[0;34m)\u001b[0m\u001b[0;34m)\u001b[0m\u001b[0;34m\u001b[0m\u001b[0;34m\u001b[0m\u001b[0m\n\u001b[0;32m-> 1377\u001b[0;31m             \u001b[0;32mraise\u001b[0m \u001b[0mKeyError\u001b[0m\u001b[0;34m(\u001b[0m\u001b[0;34mf\"{not_found} not in index\"\u001b[0m\u001b[0;34m)\u001b[0m\u001b[0;34m\u001b[0m\u001b[0;34m\u001b[0m\u001b[0m\n\u001b[0m\u001b[1;32m   1378\u001b[0m \u001b[0;34m\u001b[0m\u001b[0m\n\u001b[1;32m   1379\u001b[0m \u001b[0;34m\u001b[0m\u001b[0m\n",
      "\u001b[0;31mKeyError\u001b[0m: \"['okpy_id'] not in index\""
     ]
    }
   ],
   "source": [
    "welcome_survey = welcome_survey[['okpy_id', 'level']]\n",
    "welcome_survey.head()"
   ]
  },
  {
   "cell_type": "code",
   "execution_count": 200,
   "id": "744bcd96",
   "metadata": {},
   "outputs": [],
   "source": [
    "welcome_survey.to_csv('sp21-levels.csv')"
   ]
  },
  {
   "cell_type": "code",
   "execution_count": null,
   "id": "a963ea2f",
   "metadata": {},
   "outputs": [],
   "source": []
  },
  {
   "cell_type": "code",
   "execution_count": null,
   "id": "ce76cc1d",
   "metadata": {},
   "outputs": [],
   "source": []
  },
  {
   "cell_type": "code",
   "execution_count": null,
   "id": "7bc619cd",
   "metadata": {},
   "outputs": [],
   "source": []
  }
 ],
 "metadata": {
  "kernelspec": {
   "display_name": "Python 3 (ipykernel)",
   "language": "python",
   "name": "python3"
  },
  "language_info": {
   "codemirror_mode": {
    "name": "ipython",
    "version": 3
   },
   "file_extension": ".py",
   "mimetype": "text/x-python",
   "name": "python",
   "nbconvert_exporter": "python",
   "pygments_lexer": "ipython3",
   "version": "3.10.1"
  }
 },
 "nbformat": 4,
 "nbformat_minor": 5
}
